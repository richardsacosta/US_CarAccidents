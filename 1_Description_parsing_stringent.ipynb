{
 "cells": [
  {
   "cell_type": "code",
   "execution_count": 99,
   "id": "1d920b07",
   "metadata": {},
   "outputs": [
    {
     "data": {
      "text/html": [
       "<style>.container { width:100% !important; }</style>"
      ],
      "text/plain": [
       "<IPython.core.display.HTML object>"
      ]
     },
     "metadata": {},
     "output_type": "display_data"
    }
   ],
   "source": [
    "from IPython.display import display, HTML\n",
    "display(HTML(\"<style>.container { width:100% !important; }</style>\"))"
   ]
  },
  {
   "cell_type": "code",
   "execution_count": 2,
   "id": "34bf03f0",
   "metadata": {},
   "outputs": [],
   "source": [
    "import numpy as np\n",
    "import pandas as pd  # for data analytics\n",
    "\n",
    "# The two packages below are for plotting\n",
    "import seaborn as sns  #seaborn has nice features. Need to load pyplot with seaborn at the same time\n",
    "import matplotlib.pyplot as plt\n",
    "%matplotlib inline\n",
    "\n",
    "import re"
   ]
  },
  {
   "cell_type": "code",
   "execution_count": 3,
   "id": "ee88f2ea",
   "metadata": {},
   "outputs": [],
   "source": [
    "df = pd.read_csv('US_Accidents_Dec21_updated[1].csv')"
   ]
  },
  {
   "cell_type": "code",
   "execution_count": 19,
   "id": "1724d25e",
   "metadata": {},
   "outputs": [],
   "source": [
    "df = df.dropna(subset = ['Street'])"
   ]
  },
  {
   "cell_type": "code",
   "execution_count": 100,
   "id": "6e09be3a",
   "metadata": {},
   "outputs": [
    {
     "name": "stdout",
     "output_type": "stream",
     "text": [
      "['OUTERBELT E', 'I-70 E', 'I-75 S', 'I-77 N', 'I-75 S', 'STATE ROUTE 32', 'I-75 S', 'I-71 S', 'E HANTHORN RD', 'OUTERBELT W', 'I-75 N', 'HOPPLE ST', 'I-90 E', 'I-71 N', 'TITUS RD', 'CADIZ RD', 'OUTERBELT N', 'OUTERBELT S', 'N FWY S', 'I-75 S', 'US-33 S', 'I-75 S', 'N FWY N', 'I-70 E', 'I-75 S', 'I-65 S', 'I-675 S', 'I-70 E', 'US-421 S', 'I-74 W', 'US-421 S', 'US-35 E', 'US-50 E', 'LONG LAKE LN', 'US-23 N', 'I-65 S', 'US-23 N', 'I-279 N', 'US-19 TRK S', 'COLUMBUS PIKE', 'NW FWY W', 'I-76 E', 'W STATE ROAD 26', 'N MERIDIAN ST', 'S STATE ROAD 1', 'S STATE ROAD 1', 'W INNERBELT N', 'STATE ROUTE 49', 'I-70 W', 'I-90 E']\n"
     ]
    }
   ],
   "source": [
    "street_ls = []   # Correct inconsistent direction spelling for \"Street\", capitalize\n",
    "for mystr in df[\"Street\"]:\n",
    "    mystr = str(mystr).upper().strip()\n",
    "    newstr = mystr.replace('NORTH', 'N')\n",
    "    newstr = newstr.replace('SOUTH', 'S')\n",
    "    newstr = newstr.replace('WEST', 'W')\n",
    "    street_ls.append(newstr)\n",
    "print(street_ls[0:50])"
   ]
  },
  {
   "cell_type": "code",
   "execution_count": 28,
   "id": "052839e5",
   "metadata": {},
   "outputs": [],
   "source": [
    "df = df.drop('Street', axis=1)\n",
    "df[\"Street\"] = street_ls"
   ]
  },
  {
   "cell_type": "code",
   "execution_count": 106,
   "id": "639209b1",
   "metadata": {},
   "outputs": [
    {
     "data": {
      "text/plain": [
       "I-95 N     39853\n",
       "I-5 N      39402\n",
       "I-95 S     36425\n",
       "I-5 S      30229\n",
       "I-10 E     26164\n",
       "I-10 W     25298\n",
       "I-80 W     17545\n",
       "I-80 E     16873\n",
       "I-405 N    13708\n",
       "I-15 N     12675\n",
       "Name: Street, dtype: int64"
      ]
     },
     "execution_count": 106,
     "metadata": {},
     "output_type": "execute_result"
    }
   ],
   "source": [
    "df.Street.value_counts().nlargest(10)  #"
   ]
  },
  {
   "cell_type": "code",
   "execution_count": 32,
   "id": "8de9f4f6",
   "metadata": {},
   "outputs": [
    {
     "name": "stdout",
     "output_type": "stream",
     "text": [
      "['BETWEEN SAWMILL RD/EXIT 20 AND OH-315/OLENTANGY RIV RD/EXIT 22 - ACCIDENT.', 'AT OH-4/OH-235/EXIT 41 - ACCIDENT.', 'AT I-71/US-50/EXIT 1 - ACCIDENT.', 'AT DART AVE/EXIT 21 - ACCIDENT.', 'AT MITCHELL AVE/EXIT 6 - ACCIDENT.', 'AT DELA PALMA RD - ACCIDENT.', 'AT OH-4/EXIT 54 - ACCIDENT.', 'AT BAGLEY RD/EXIT 235 - ACCIDENT.', 'AT OH-65/EXIT 122 - ACCIDENT.', 'AT I-71/EXIT 26 - ACCIDENT.']\n"
     ]
    }
   ],
   "source": [
    "desc_ls = []   # Correct inconsistent direction spelling for \"Cross_street\", capitalize\n",
    "for mystr in df[\"Description\"]:\n",
    "    mystr = str(mystr).upper().strip()\n",
    "    newstr = mystr.replace('NORTH', 'N')\n",
    "    newstr = newstr.replace('SOUTH', 'S')\n",
    "    newstr = newstr.replace('WEST', 'W')\n",
    "    desc_ls.append(newstr)\n",
    "print(desc_ls[0:10])"
   ]
  },
  {
   "cell_type": "code",
   "execution_count": 33,
   "id": "0c08ad30",
   "metadata": {},
   "outputs": [],
   "source": [
    "df = df.drop('Description', axis=1)\n",
    "df[\"Description\"] = desc_ls"
   ]
  },
  {
   "cell_type": "code",
   "execution_count": 104,
   "id": "90694aa9",
   "metadata": {},
   "outputs": [
    {
     "data": {
      "text/plain": [
       "A CRASH HAS OCCURRED CAUSING NO TO MINIMUM DELAYS. USE CAUTION.                                  7978\n",
       "A CRASH HAS OCCURRED USE CAUTION.                                                                2531\n",
       "AN UNCONFIRMED REPORT OF A CRASH HAS BEEN RECEIVED. USE CAUTION.                                 2308\n",
       "HAZARDOUS DEBRIS IS CAUSING NO TO MINIMUM DELAYS. USE CAUTION.                                   2095\n",
       "AT I-15 - ACCIDENT.                                                                              2070\n",
       "A DISABLED VEHICLE IS CREATING A HAZARD CAUSING NO TO MINIMUM DELAYS. USE CAUTION.               1912\n",
       "AT I-5 - ACCIDENT.                                                                               1907\n",
       "AT I-405/SAN DIEGO FWY - ACCIDENT.                                                               1769\n",
       "AT I-605 - ACCIDENT.                                                                             1486\n",
       "INCIDENT ON I-95 NB NEAR I-95 DRIVE WITH CAUTION.                                                1304\n",
       "INCIDENT ON I-95 SB NEAR I-95 DRIVE WITH CAUTION.                                                1268\n",
       "AN UNCONFIRMED REPORT OF HAZARDOUS DEBRIS HAS BEEN RECEIVED. USE CAUTION.                        1223\n",
       "AT GRAND AVE - ACCIDENT.                                                                         1103\n",
       "AT CENTRAL AVE - ACCIDENT.                                                                        923\n",
       "AN UNCONFIRMED REPORT OF A DISABLED VEHICLE CREATING A HAZARD HAS BEEN RECEIVED. USE CAUTION.     876\n",
       "AT I-80 - ACCIDENT.                                                                               859\n",
       "INCIDENT ON I-15 NB NEAR I-15 DRIVE WITH CAUTION.                                                 849\n",
       "AT US-101 - ACCIDENT.                                                                             821\n",
       "AT I-405 - ACCIDENT.                                                                              814\n",
       "INCIDENT ON I-64 WB NEAR I-64 DRIVE WITH CAUTION.                                                 778\n",
       "Name: Description, dtype: int64"
      ]
     },
     "execution_count": 104,
     "metadata": {},
     "output_type": "execute_result"
    }
   ],
   "source": [
    "df.Description.value_counts().nlargest(20)  # Not every description has cross street information. "
   ]
  },
  {
   "cell_type": "code",
   "execution_count": 101,
   "id": "3c21af92",
   "metadata": {},
   "outputs": [
    {
     "data": {
      "text/plain": [
       "I-405 N           194\n",
       "I-405 S           148\n",
       "US-101 S          141\n",
       "I-10 E            133\n",
       "WILSHIRE BLVD      94\n",
       "CA-55 N            79\n",
       "US-101 N           79\n",
       "CA-55 S            61\n",
       "W DEL AMO BLVD     58\n",
       "SEPULVEDA BLVD     52\n",
       "Name: Street, dtype: int64"
      ]
     },
     "execution_count": 101,
     "metadata": {},
     "output_type": "execute_result"
    }
   ],
   "source": [
    "desc_test_df = df[df['Description'] == \"AT I-405/SAN DIEGO FWY - ACCIDENT.\"]\n",
    "desc_test_df.Street.value_counts().nlargest(10)"
   ]
  },
  {
   "cell_type": "code",
   "execution_count": 105,
   "id": "4ff1eaec",
   "metadata": {},
   "outputs": [
    {
     "data": {
      "text/plain": [
       "CA-91 W            519\n",
       "CA-91 E            356\n",
       "I-10 E             103\n",
       "I-10 W              83\n",
       "CA-60 W             67\n",
       "CA-60 E             62\n",
       "CA-78 E             58\n",
       "RIVERSIDE FWY E     40\n",
       "S STATE ST          39\n",
       "W 3300 S            37\n",
       "Name: Street, dtype: int64"
      ]
     },
     "execution_count": 105,
     "metadata": {},
     "output_type": "execute_result"
    }
   ],
   "source": [
    "desc_test_df = df[df['Description'] == \"AT I-15 - ACCIDENT.\"]\n",
    "desc_test_df.Street.value_counts().nlargest(10)"
   ]
  },
  {
   "cell_type": "markdown",
   "id": "cfece48d",
   "metadata": {},
   "source": [
    "#### Parsing street names (quick and dirty)"
   ]
  },
  {
   "cell_type": "code",
   "execution_count": 112,
   "id": "6b49a8b7",
   "metadata": {},
   "outputs": [
    {
     "name": "stdout",
     "output_type": "stream",
     "text": [
      "['OUTERBELT E', 'I-70 E', 'I-75 S', 'I-77 N', 'I-75 S', 'STATE ROUTE 32', 'I-75 S', 'I-71 S', 'E HANTHORN RD', 'OUTERBELT W', 'I-75 N', 'HOPPLE ST', 'I-90 E', 'I-71 N', 'TITUS RD', 'CADIZ RD', 'OUTERBELT N', 'OUTERBELT S', 'N FWY S', 'I-75 S']\n"
     ]
    },
    {
     "data": {
      "text/plain": [
       "2845340"
      ]
     },
     "execution_count": 112,
     "metadata": {},
     "output_type": "execute_result"
    }
   ],
   "source": [
    "print(street_ls[0:20])\n",
    "len(street_ls)"
   ]
  },
  {
   "cell_type": "code",
   "execution_count": 118,
   "id": "d81dd505",
   "metadata": {},
   "outputs": [
    {
     "name": "stdout",
     "output_type": "stream",
     "text": [
      "0 instances has been processed\n",
      "100000 instances has been processed\n",
      "200000 instances has been processed\n",
      "300000 instances has been processed\n",
      "400000 instances has been processed\n",
      "500000 instances has been processed\n",
      "600000 instances has been processed\n",
      "700000 instances has been processed\n",
      "800000 instances has been processed\n",
      "900000 instances has been processed\n",
      "1000000 instances has been processed\n",
      "1100000 instances has been processed\n",
      "1200000 instances has been processed\n",
      "1300000 instances has been processed\n",
      "1400000 instances has been processed\n",
      "1500000 instances has been processed\n",
      "1600000 instances has been processed\n",
      "1700000 instances has been processed\n",
      "1800000 instances has been processed\n",
      "1900000 instances has been processed\n",
      "2000000 instances has been processed\n",
      "2100000 instances has been processed\n",
      "2200000 instances has been processed\n",
      "2300000 instances has been processed\n",
      "2400000 instances has been processed\n",
      "2500000 instances has been processed\n",
      "2600000 instances has been processed\n",
      "2700000 instances has been processed\n",
      "2800000 instances has been processed\n"
     ]
    }
   ],
   "source": [
    "des_list = []\n",
    "\n",
    "i = 0\n",
    "for mystr in df[\"Description\"]:\n",
    "    mystr = ' '+mystr+' '   # add space before and after the string, so short test delimiter can work\n",
    "    #print(mystr)\n",
    "    \n",
    "    streetname = street_ls[i].upper()\n",
    "    delimiter = street_ls[i] + '| ON |\\*|\\.| IN | IS | CLOSED | A | \\(| \\[| TO | BETWEEN | AND | AT | BUS | SFPD | @ | TOWN | DMV | SUV | # | APPROACHING | UNKNOWN | POI | HEAD |\\\n",
    "                      - |CLOSED AT |ROAD CLOSED AT |CLOSED BETWEEN |/| BOTH | DIRECTIONS |\\\n",
    "                      INCIDENT ON |SLOW TRAFFIC ON |STATIONARY TRAFFIC ON |INCIDENT|SLOW TRAFFIC|CONSTRUCTION|NOTIFICATION\\]|MULTI VEHICLE|\\\n",
    "                      SLOW TRAFFIC FROM |STATIONARY TRAFFIC FROM | FROM |HAZARDOUS DEBRIS|MOTOR VEHICLE|VEHICLE|MULTIPLE|\\\n",
    "                      SLOW TRAFFIC AT | NEAR |RAMP CLOSED |RAMP | AT | PAST |\\\n",
    "                      ACCIDENTS |STATIONARY TRAFFIC AT |CLOSED ROAD |QUEUING TRAFFIC | FROM |LANDSLIDE HAS OCCURRED|\\\n",
    "                      RAMP TO | ACCIDENT |NYSDOT|NJ DOT|CONNDOT:|CRASH|EXIT|HAS OCCURRED USE CAUTION.|\\\n",
    "                      MOTOR VEHICLE ACCIDENT|CRASH ON|DUE|LEFT LANE BLOCKED|AN ABANDONED VEHICLE|\\\n",
    "                      ALL LANES BLOCKED|NO OTHER VEHS INV|DISABLED VEHICLE|DISABLED STALL|STALL HAS THE LEFT LANE|STALL HAS THE RIGHT LANE|\\\n",
    "                      STALL HAS BEEN REPORTED|VEHICLE HAS STALLED|COLLISION REPORTED|COLLISION|\\\n",
    "                      ROCK FALL HAS OCCURRED|POLICE ACTIVITY HAS WB|\\\n",
    "                      VEHICLE HAS STALLED SB|\\\n",
    "                      HAS BOTH LANES BLOCKED|\\\n",
    "                      VEHICLE HAS STALLED NB|:'\n",
    "    #print(delimiter)\n",
    "    \n",
    "    newstr = re.split(delimiter, mystr.upper())   \n",
    "    #print(newstr)\n",
    "\n",
    "    # When the splited string list is longer than 3\n",
    "    if len(newstr) >= 3:\n",
    "        \n",
    "        ## when the 1st string is empty\n",
    "        if newstr[0].strip() == '':  ### when the 1st string is empty\n",
    "            #print(newstr[1])\n",
    "            \n",
    "            ### when the 2nd string is empty\n",
    "            if newstr[1].strip() == '':  ### when the 2nd string is empty\n",
    "                \n",
    "                #### if the 3rd string between (0:5] and last letter is not a number OR it is all number, not a street name\n",
    "                if len(newstr[2].strip()) <= 5 and len(newstr[2].strip()) > 0 and (newstr[2].strip()[-1].isdigit() == False or re.match(\"^[0-9 ]+$\",newstr[2])): \n",
    "                    des_list.append(np.nan)\n",
    "                    \n",
    "                #### when the 3rd string is longer than 23, not a street name    \n",
    "                elif len(newstr[2].strip()) > 23:\n",
    "                    des_list.append(np.nan)\n",
    "                    \n",
    "                #### if the 3rd string is between [3, 23], likely a street name, if it has only 3 letters, the last letter is a number, e.g., I-5    \n",
    "                elif len(newstr[2].strip()) <= 23 and len(newstr[2].strip())>= 3:\n",
    "                    newstr_new = ' '+newstr[2].strip()+' '  # Add space for delimiter, remove unwanted texts\n",
    "                    newstr_1 = re.split(' THE | BEFORE | BEYOND | NEAR | FROM | ON | IN | IS | A | \\(| \\[| TO | BETWEEN | AND | AT | - ACCIDENT| - ROAD | - |', newstr_new)\n",
    "                    \n",
    "                    if newstr_1[0].strip() != '':\n",
    "                        if len(newstr_1[0].strip())>= 5:\n",
    "                            if re.match(\"^[0-9 ]+$\",newstr_1[0]):\n",
    "                                des_list.append(np.nan)\n",
    "                            else:\n",
    "                                des_list.append(newstr_1[0].upper().strip())\n",
    "                        elif len(newstr_1[0].strip()) <= 5 and newstr_1[1].strip()[-1].isdigit():\n",
    "                            if re.match(\"^[0-9 ]+$\",newstr_1[0]):\n",
    "                                des_list.append(np.nan)\n",
    "                            else:\n",
    "                                des_list.append(newstr_1[0].upper().strip())\n",
    "                        else:\n",
    "                            des_list.append(np.nan)\n",
    "                    \n",
    "                    elif len(newstr_1) > 1 and newstr_1[1].strip() != '':\n",
    "                        if len(newstr_1[1].strip()) <= 5 and newstr_1[1].strip()[-1].isdigit():\n",
    "                            if re.match(\"^[0-9 ]+$\",newstr_1[1]):\n",
    "                                des_list.append(np.nan)\n",
    "                            else:\n",
    "                                des_list.append(newstr_1[1].upper().strip())\n",
    "                                                \n",
    "                        elif len(newstr_1[1].strip())> 5:\n",
    "                            if re.match(\"^[0-9 ]+$\",newstr_1[1]):\n",
    "                                des_list.append(np.nan)\n",
    "                            else:\n",
    "                                des_list.append(newstr_1[0].upper().strip())\n",
    "                        else:\n",
    "                            des_list.append(np.nan)\n",
    "                    \n",
    "                    else:\n",
    "                        des_list.append(np.nan)    # otherwise add NaN\n",
    "                \n",
    "                #### when the 3rd string is not between (0,5], [2,23] or >23, add NaN\n",
    "                else:                       \n",
    "                    des_list.append(np.nan)\n",
    "                    \n",
    "            \n",
    "            ### when the 2nd string is not empty\n",
    "            else:\n",
    "                \n",
    "                #### when the 2nd string is between (0, 3] and last letter is not a number, not a street, add as NaN\n",
    "                if len(newstr[1].strip())<= 5 and len(newstr[1].strip()) > 0 and (newstr[1].strip()[-1].isdigit() == False or re.match(\"^[0-9 ]+$\",newstr[1])):\n",
    "                    #print(mystr)\n",
    "                    #print(newstr)\n",
    "                    des_list.append(np.nan)\n",
    "                \n",
    "                #### when the 2nd string is longer than 23, not a street name, add as NaN\n",
    "                elif len(newstr[1].strip()) > 23:\n",
    "                    des_list.append(np.nan)\n",
    "                \n",
    "                #### when the 2nd string is between [2,23], likely a street name\n",
    "                elif len(newstr[1].strip()) <= 23 and len(newstr[1].strip())>= 3:\n",
    "                    newstr_new = ' '+newstr[1].strip()+' '\n",
    "                    newstr_1 = re.split(' THE | BEFORE | BEYOND | NEAR | FROM | ON | IN | IS | A | \\(| \\[| TO | BETWEEN | AND | AT | - ACCIDENT| - ROAD | - ', newstr_new)\n",
    "                    #print(newstr_1)\n",
    "                    \n",
    "                    if newstr_1[0].strip() != '':\n",
    "                        if len(newstr_1[0].strip())> 5: #and newstr_1[0].strip()[-1].isdigit():\n",
    "                            if re.match(\"^[0-9 ]+$\",newstr_1[0]):\n",
    "                                des_list.append(np.nan)\n",
    "                            else:\n",
    "                                des_list.append(newstr_1[0].upper().strip())\n",
    "                        elif len(newstr_1[0].strip()) <= 5 and newstr_1[0].strip()[-1].isdigit():\n",
    "                            if re.match(\"^[0-9 ]+$\",newstr_1[0]):\n",
    "                                des_list.append(np.nan)\n",
    "                            else:\n",
    "                                des_list.append(newstr_1[0].upper().strip())\n",
    "                        else:\n",
    "                            des_list.append(np.nan)\n",
    "                    \n",
    "                    elif len(newstr_1)>1  and newstr_1[1].strip() != '':\n",
    "                        if len(newstr_1[1].strip()) <= 5 and newstr_1[1].strip()[-1].isdigit():\n",
    "                            if re.match(\"^[0-9 ]+$\",newstr_1[1]):\n",
    "                                des_list.append(np.nan)\n",
    "                            else:\n",
    "                                des_list.append(newstr_1[1].upper().strip())\n",
    "                                                \n",
    "                        elif len(newstr_1[1].strip())> 5:\n",
    "                            if re.match(\"^[0-9 ]+$\",newstr_1[1]):\n",
    "                                des_list.append(np.nan)\n",
    "                            else:\n",
    "                                des_list.append(newstr_1[1].upper().strip())\n",
    "                        else:\n",
    "                            des_list.append(np.nan)\n",
    "                    else:\n",
    "                        des_list.append(np.nan)\n",
    "                \n",
    "                #### when the 2nd string is not between (0,5], [2,23] or >23, add NaN\n",
    "                else:\n",
    "                    des_list.append(np.nan)\n",
    "        \n",
    "        ## when the 1st string is not empty\n",
    "        else:\n",
    "            \n",
    "            #### when the 1st string is between (0, 3] and last letter is not a number, not a street, add as NaN\n",
    "            if len(newstr[0].strip()) <= 5 and len(newstr[0].strip()) > 0 and (newstr[0][-1].isdigit() == False or re.match(\"^[0-9 ]+$\",newstr[0])):\n",
    "                #print(mystr)\n",
    "                #print(newstr)\n",
    "                des_list.append(np.nan)\n",
    "            \n",
    "            #### when the 1st string is longer than 23, not a street name, add as NaN\n",
    "            elif len(newstr[0].strip()) > 23:\n",
    "                des_list.append(np.nan)\n",
    "            \n",
    "            #### when the 1st string is between [2,23], likely a street name\n",
    "            elif len(newstr[0].strip()) <= 23 and len(newstr[0].strip())>= 3:\n",
    "                newstr_new = ' '+newstr[0].strip()+' '\n",
    "                newstr_1 = re.split(' THE | BEFORE | BEYOND | NEAR | FROM | ON | IN | IS | A | \\(| \\[| TO | BETWEEN | AND | AT | - ACCIDENT| - ROAD | - ', newstr_new)\n",
    "                #print(newstr_1)\n",
    "                \n",
    "                if newstr_1[0].strip() != '':\n",
    "                    if len(newstr_1[0].strip()) > 5: #and newstr_1[0].strip()[-1].isdigit():\n",
    "                        if re.match(\"^[0-9 ]+$\",newstr_1[0]):\n",
    "                            des_list.append(np.nan)\n",
    "                        else:\n",
    "                            des_list.append(newstr_1[0].upper().strip())\n",
    "                    elif len(newstr_1[0].strip()) <= 5 and newstr_1[0].strip()[-1].isdigit():\n",
    "                        if re.match(\"^[0-9 ]+$\",newstr_1[0]):\n",
    "                            des_list.append(np.nan)\n",
    "                        else:\n",
    "                            des_list.append(newstr_1[0].upper().strip())\n",
    "                    else:\n",
    "                        des_list.append(np.nan)\n",
    "                    \n",
    "                elif len(newstr_1)>1 and newstr_1[1].strip() != '':\n",
    "                    if len(newstr_1[1].strip()) <= 5 and newstr_1[1].strip()[-1].isdigit():\n",
    "                        if re.match(\"^[0-9 ]+$\",newstr_1[1]):\n",
    "                            des_list.append(np.nan)\n",
    "                        else:\n",
    "                            des_list.append(newstr_1[1].upper().strip())\n",
    "                                                \n",
    "                    elif len(newstr_1[1].strip()) > 5:\n",
    "                        if re.match(\"^[0-9 ]+$\",newstr_1[1]):\n",
    "                            des_list.append(np.nan)\n",
    "                        else:\n",
    "                            des_list.append(newstr_1[1].upper().strip())\n",
    "                            \n",
    "                    else:\n",
    "                        des_list.append(np.nan)\n",
    "                \n",
    "                else:\n",
    "                    des_list.append(np.nan)\n",
    "            \n",
    "            #### when the 1st string is not between (0,5], [2,23] or >23, add NaN\n",
    "            else:\n",
    "                des_list.append(np.nan)\n",
    "                \n",
    "    # when the splited string list is shorter than 3       \n",
    "    else:\n",
    "        if newstr[0].strip() != '':\n",
    "            if len(newstr[0].strip())> 5 and len(newstr[0].strip()) <= 23:\n",
    "                des_list.append(newstr[0].upper().strip())\n",
    "            elif len(newstr[0].strip()) <= 5 and newstr[0].strip()[-1].isdigit():\n",
    "                if re.match(\"^[0-9 ]+$\",newstr[0]):\n",
    "                    des_list.append(np.nan)\n",
    "                else:\n",
    "                    des_list.append(newstr[0].upper().strip())\n",
    "            else:\n",
    "                des_list.append(np.nan)\n",
    "        else:\n",
    "            des_list.append(np.nan)\n",
    "    \n",
    "    \n",
    "    if i%100000 == 0:  #calc status output\n",
    "        print(str(i) + \" instances has been processed\")\n",
    "    i = i+1"
   ]
  },
  {
   "cell_type": "code",
   "execution_count": 119,
   "id": "09fae46c",
   "metadata": {},
   "outputs": [],
   "source": [
    "df[\"Cross_street\"] = des_list  # add Cross_street to df"
   ]
  },
  {
   "cell_type": "code",
   "execution_count": 120,
   "id": "b6e5bef1",
   "metadata": {},
   "outputs": [
    {
     "name": "stdout",
     "output_type": "stream",
     "text": [
      "(2845340, 48)\n"
     ]
    }
   ],
   "source": [
    "print(df.shape)"
   ]
  },
  {
   "cell_type": "code",
   "execution_count": 121,
   "id": "8685f90a",
   "metadata": {},
   "outputs": [],
   "source": [
    "df_new = df.dropna(subset = ['Cross_street','Street']) # remove rows with NaN value in Cross_street and Street column"
   ]
  },
  {
   "cell_type": "code",
   "execution_count": 122,
   "id": "eddd7ed4",
   "metadata": {},
   "outputs": [
    {
     "data": {
      "text/plain": [
       "(1390073, 48)"
      ]
     },
     "execution_count": 122,
     "metadata": {},
     "output_type": "execute_result"
    }
   ],
   "source": [
    "df_new.shape"
   ]
  },
  {
   "cell_type": "code",
   "execution_count": 123,
   "id": "2162cd50",
   "metadata": {},
   "outputs": [],
   "source": [
    "df_new.to_csv('national_clean_des.csv') # save df_new as csv"
   ]
  },
  {
   "cell_type": "markdown",
   "id": "1d1f5cec",
   "metadata": {},
   "source": [
    "#### Check parcing performance for the long street names"
   ]
  },
  {
   "cell_type": "code",
   "execution_count": 124,
   "id": "f5b19027",
   "metadata": {},
   "outputs": [],
   "source": [
    "df_check = pd.DataFrame()\n",
    "df_check['length'] = df_new['Cross_street'].str.len()\n",
    "df_check['content']=df_new['Cross_street']\n",
    "df_check.sort_values('length', ascending=False, inplace=True)\n",
    "df_check = df_check.astype({\"length\": int})"
   ]
  },
  {
   "cell_type": "code",
   "execution_count": 125,
   "id": "63ca84d3",
   "metadata": {},
   "outputs": [
    {
     "data": {
      "text/plain": [
       "length  content                \n",
       "22      VEH TC'D INTO RP'S DOG     1\n",
       "        VEH ROLLED OVER STRUCK     1\n",
       "        NB US101 JSO TWIN OAKS     1\n",
       "23      1 VEH POSS NOT DRIVALBE    1\n",
       "22      PER MTY COM - FIRE UTL     1\n",
       "        PER SRCC POSS NECK INJ     1\n",
       "        VEH VS RP'S PARKED VEH     1\n",
       "        OCCD NORWALK X SLAUSON     1\n",
       "        VEH VS KCSO PATROL VEH     1\n",
       "        NOGALES JWO PATHFINDER     1\n",
       "        NORMANDIE JSO OAKHEATH     1\n",
       "        OCCD NB I5 JSO ROXFORD     1\n",
       "        VEH VS SEMI VEH HAULER     1\n",
       "        PER EDISON 30-89244 OR     1\n",
       "        VEH VS TWO PARKED VEHS     1\n",
       "        OCCD SB 405 JNO CARSON     1\n",
       "        XST POINT SAN PEDRO RD     1\n",
       "        VEH WAS 23103 AFTER TC     1\n",
       "        VETERANS MEMORIAL PKWY     1\n",
       "        VICT GRY NISS ALTIMA R     1\n",
       "        OCCD SB 405 VIC SUNSET     1\n",
       "        NB US101 JNO MATTIE RD     1\n",
       "        WB 4 JWO CUMMINGS SKWY     1\n",
       "        VEH MAKING LOUD NOISES     1\n",
       "        PLOT OF YUM YUM DONUTS     1\n",
       "        NB SR99 JSO W 16TH ONR     1\n",
       "        OCCD I15 S KENWOOD AVE     1\n",
       "        PTY WILL 1023 FOR 1185     1\n",
       "        NB SR99 NO CENTERFOLDS     1\n",
       "        PROCTOR JWO SAN ANGELO     1\n",
       "dtype: int64"
      ]
     },
     "execution_count": 125,
     "metadata": {},
     "output_type": "execute_result"
    }
   ],
   "source": [
    "df_check[df_check['length'] > 20].value_counts().nsmallest(30) #long street names not completely clean"
   ]
  },
  {
   "cell_type": "code",
   "execution_count": 126,
   "id": "2b06b022",
   "metadata": {},
   "outputs": [
    {
     "data": {
      "text/plain": [
       "length  content\n",
       "3       A21        1\n",
       "4       EB91       1\n",
       "3       M99        1\n",
       "4       -395       1\n",
       "        FL-4       1\n",
       "3       D12        1\n",
       "4       CR 8       1\n",
       "        FL-5       1\n",
       "3       #59        1\n",
       "        I40        1\n",
       "        I15        1\n",
       "4       AR-4       1\n",
       "        X 99       1\n",
       "3       I26        1\n",
       "4       CH-4       1\n",
       "        E 20       1\n",
       "        US17       1\n",
       "        CR25       1\n",
       "        US15       1\n",
       "3       SB5        1\n",
       "4       US13       1\n",
       "3       R97        1\n",
       "        CR1        1\n",
       "        MM1        1\n",
       "4       CR27       1\n",
       "        US52       1\n",
       "        WB 9       1\n",
       "        CR85       1\n",
       "        CP-7       1\n",
       "        CRJ2       1\n",
       "dtype: int64"
      ]
     },
     "execution_count": 126,
     "metadata": {},
     "output_type": "execute_result"
    }
   ],
   "source": [
    "df_check[df_check['length'] <= 4].value_counts().nsmallest(30) #short street names not completely clean"
   ]
  },
  {
   "cell_type": "markdown",
   "id": "d9eed504",
   "metadata": {},
   "source": [
    "#### Further cleaning by removing small counts"
   ]
  },
  {
   "cell_type": "code",
   "execution_count": 149,
   "id": "42c43b7c",
   "metadata": {},
   "outputs": [],
   "source": [
    "sub_df_new = df_new[df_new.groupby('Cross_street').Cross_street.transform('count')>=3].copy()"
   ]
  },
  {
   "cell_type": "code",
   "execution_count": 150,
   "id": "cf5d22a8",
   "metadata": {},
   "outputs": [],
   "source": [
    "df_check_sub = pd.DataFrame()   #check performance after deleting small counts items\n",
    "df_check_sub['length'] = sub_df_new['Cross_street'].str.len()\n",
    "df_check_sub['content']=sub_df_new['Cross_street']\n",
    "df_check_sub.sort_values('length', ascending=False, inplace=True)\n",
    "df_check_sub = df_check_sub.astype({\"length\": int})"
   ]
  },
  {
   "cell_type": "code",
   "execution_count": 151,
   "id": "fcfc74af",
   "metadata": {},
   "outputs": [
    {
     "data": {
      "text/plain": [
       "length  content\n",
       "4       AB 5       3\n",
       "        VA-4       3\n",
       "        AL-8       3\n",
       "        US44       3\n",
       "        ME-4       3\n",
       "        DE-9       3\n",
       "        EB 1       3\n",
       "        MM47       3\n",
       "        M-83       3\n",
       "        MO-6       3\n",
       "        MS-8       3\n",
       "        NC-3       3\n",
       "        M-65       3\n",
       "        NF-3       3\n",
       "        NY-2       3\n",
       "        NY-3       3\n",
       "3       I 9        3\n",
       "4       IN-8       3\n",
       "        RT 4       3\n",
       "        RT 5       3\n",
       "        IL-2       3\n",
       "        ID-7       3\n",
       "        ME-5       3\n",
       "        RT34       3\n",
       "        ID-1       3\n",
       "        SR29       3\n",
       "        SR74       3\n",
       "        SR90       3\n",
       "        SR92       3\n",
       "        GA-4       3\n",
       "dtype: int64"
      ]
     },
     "execution_count": 151,
     "metadata": {},
     "output_type": "execute_result"
    }
   ],
   "source": [
    "df_check_sub[df_check_sub['length'] <= 4].value_counts().nsmallest(30) #No junk after deleting observation < 3"
   ]
  },
  {
   "cell_type": "code",
   "execution_count": 152,
   "id": "3d2c87d3",
   "metadata": {},
   "outputs": [
    {
     "data": {
      "text/plain": [
       "length  content                \n",
       "22      SR60 W EO PIPELINE AVE     3\n",
       "23      SR91 E WO ARLINGTON AVE    3\n",
       "22      SR60 W EO VINEYARD AVE     3\n",
       "        SR91 E WO MAGNOLIA AVE     3\n",
       "23      SR78 W WOODLAND PKWY EO    3\n",
       "        WB SR138 JEO 233RD ST E    3\n",
       "        ST PETERSBURG REST AREA    3\n",
       "22      STATE ROUTE 109 NBOUND     3\n",
       "23      SR91 E WO PROMENADE AVE    3\n",
       "        W FLORIDA REPUBLIC PKWY    3\n",
       "        WB 80 JEO SAN PABLO DAM    3\n",
       "        SR91 W WO ARLINGTON AVE    3\n",
       "        WB 134 JEO ORANGE GROVE    3\n",
       "        BEAR MOUNTAIN STATE PKY    3\n",
       "        SR60 W WO RUBIDOUX BLVD    3\n",
       "        HATFIELD-SOUDERTON PIKE    3\n",
       "        I15 N TEMECULA NO(SR79)    3\n",
       "        I215 N SO PLACENTIA AVE    3\n",
       "        I215 N SO WASHINGTON ST    3\n",
       "        I5 S DEL MAR HEIGHTS NO    3\n",
       "        I5 S DEL MAR HEIGHTS SO    3\n",
       "        I10 W MOUNTAIN VIEW AVE    3\n",
       "        I10 E WO TIPPECANOE AVE    3\n",
       "        MCNEILL-STEEP HOLLOW RD    3\n",
       "        HUTCHINSON RIVER PKWY S    3\n",
       "        NB 14 JSO GOLDEN VALLEY    3\n",
       "        NB 5 JNO MAGIC MOUNTAIN    3\n",
       "        SR60 W EO REDLANDS BLVD    3\n",
       "        NB 680 JSO STONE VALLEY    3\n",
       "        PALMETTO EXWY S EXPRESS    3\n",
       "        PORT BYRON SERVICE AREA    3\n",
       "        SB 101 JNO CESAR CHAVEZ    3\n",
       "        SB 101 JNO WALDO TUNNEL    3\n",
       "        SB 101 JSO CESAR CHAVEZ    3\n",
       "        I210 W EO ARCHIBALD AVE    3\n",
       "        BALLANTYNE COMMONS PKWY    3\n",
       "        SB 241 JNO SANTIAGO CYN    3\n",
       "        SEAST OF HENDERSONVILLE    3\n",
       "22      SR60 W EO FREDERICK ST     3\n",
       "21      ALAMEDA DE LAS PULGAS      3\n",
       "22      SR60 E WO PIPELINE AVE     3\n",
       "21      S W OF ROANOKE RAPIDS      3\n",
       "        NB 101 JNO LANKERSHIM      3\n",
       "        NB 110 JSO MANCHESTER      3\n",
       "        NB 405 JNO WILMINGTON      3\n",
       "        NB 405 JSO BROOKHURST      3\n",
       "        NB 57 JNO COUNTY LINE      3\n",
       "        NB CULL JNO CROW 5 MI      3\n",
       "        NEW JERSEY TURNPIKE N      3\n",
       "        OLD FREDERICK RD EAST      3\n",
       "dtype: int64"
      ]
     },
     "execution_count": 152,
     "metadata": {},
     "output_type": "execute_result"
    }
   ],
   "source": [
    "df_check_sub[df_check_sub['length'] > 20].value_counts().nsmallest(50) #No junk after deleting observation < 3"
   ]
  },
  {
   "cell_type": "code",
   "execution_count": 153,
   "id": "3204c07c",
   "metadata": {},
   "outputs": [],
   "source": [
    "sub_df_new.to_csv('national_clean_des_xstreet_above_3.csv') #output to csv"
   ]
  },
  {
   "cell_type": "markdown",
   "id": "7da5a520",
   "metadata": {},
   "source": [
    "#### Stats for national data before cleaning"
   ]
  },
  {
   "cell_type": "code",
   "execution_count": 132,
   "id": "80cf9933",
   "metadata": {},
   "outputs": [
    {
     "name": "stdout",
     "output_type": "stream",
     "text": [
      "2845340\n",
      "Severity 1:  26053 0.92% of total instances\n",
      "Severity 2:  2532989 89.02% of total instances\n",
      "Severity 3:  155105 5.45% of total instances\n",
      "Severity 4:  131193 4.61% of total instances\n"
     ]
    }
   ],
   "source": [
    "df.Severity.value_counts()\n",
    "severity_2, severity_3, severity_4, severity_1 = df.Severity.value_counts()\n",
    "total = len(df.Severity)\n",
    "print (total)\n",
    "print(\"Severity 1: \", severity_1, \"{0:.2%} of total instances\".format(severity_1/total))\n",
    "print(\"Severity 2: \", severity_2, \"{0:.2%} of total instances\".format(severity_2/total))\n",
    "print(\"Severity 3: \", severity_3, \"{0:.2%} of total instances\".format(severity_3/total))\n",
    "print(\"Severity 4: \", severity_4, \"{0:.2%} of total instances\".format(severity_4/total))"
   ]
  },
  {
   "cell_type": "markdown",
   "id": "54ff7aec",
   "metadata": {},
   "source": [
    "#### Stats for national data after cleaning"
   ]
  },
  {
   "cell_type": "code",
   "execution_count": 133,
   "id": "52e20642",
   "metadata": {},
   "outputs": [
    {
     "name": "stdout",
     "output_type": "stream",
     "text": [
      "1390073\n",
      "Severity 1:  18920 1.36% of total instances\n",
      "Severity 2:  1141065 82.09% of total instances\n",
      "Severity 3:  136766 9.84% of total instances\n",
      "Severity 4:  93322 6.71% of total instances\n"
     ]
    }
   ],
   "source": [
    "df_new.Severity.value_counts()\n",
    "severity_2, severity_3, severity_4, severity_1 = df_new.Severity.value_counts()\n",
    "total = len(df_new.Severity)\n",
    "print (total)\n",
    "print(\"Severity 1: \", severity_1, \"{0:.2%} of total instances\".format(severity_1/total))\n",
    "print(\"Severity 2: \", severity_2, \"{0:.2%} of total instances\".format(severity_2/total))\n",
    "print(\"Severity 3: \", severity_3, \"{0:.2%} of total instances\".format(severity_3/total))\n",
    "print(\"Severity 4: \", severity_4, \"{0:.2%} of total instances\".format(severity_4/total))"
   ]
  },
  {
   "cell_type": "markdown",
   "id": "281debf8",
   "metadata": {},
   "source": [
    "#### Stats for national data after deleting low counts"
   ]
  },
  {
   "cell_type": "code",
   "execution_count": 154,
   "id": "935451df",
   "metadata": {},
   "outputs": [
    {
     "name": "stdout",
     "output_type": "stream",
     "text": [
      "1329105\n",
      "Severity 1:  18411 1.39% of total instances\n",
      "Severity 2:  1095917 82.46% of total instances\n",
      "Severity 3:  133813 10.07% of total instances\n",
      "Severity 4:  80964 6.09% of total instances\n"
     ]
    }
   ],
   "source": [
    "sub_df_new.Severity.value_counts()\n",
    "severity_2, severity_3, severity_4, severity_1 = sub_df_new.Severity.value_counts()\n",
    "total = len(sub_df_new.Severity)\n",
    "print (total)\n",
    "print(\"Severity 1: \", severity_1, \"{0:.2%} of total instances\".format(severity_1/total))\n",
    "print(\"Severity 2: \", severity_2, \"{0:.2%} of total instances\".format(severity_2/total))\n",
    "print(\"Severity 3: \", severity_3, \"{0:.2%} of total instances\".format(severity_3/total))\n",
    "print(\"Severity 4: \", severity_4, \"{0:.2%} of total instances\".format(severity_4/total))"
   ]
  },
  {
   "cell_type": "markdown",
   "id": "384bfd6e",
   "metadata": {},
   "source": [
    "#### Stats for TX data before cleaning"
   ]
  },
  {
   "cell_type": "code",
   "execution_count": 135,
   "id": "b5ccec53",
   "metadata": {},
   "outputs": [
    {
     "name": "stdout",
     "output_type": "stream",
     "text": [
      "149037\n",
      "Severity 1:  941 0.63% of total instances\n",
      "Severity 2:  124059 83.24% of total instances\n",
      "Severity 3:  19570 13.13% of total instances\n",
      "Severity 4:  4467 3.00% of total instances\n"
     ]
    }
   ],
   "source": [
    "df.Severity[df.State == 'TX'].value_counts()\n",
    "severity_2, severity_3, severity_4, severity_1 = df.Severity[df.State == 'TX'].value_counts()\n",
    "total = len(df.Severity[df.State == 'TX'])\n",
    "print (total)\n",
    "print(\"Severity 1: \", severity_1, \"{0:.2%} of total instances\".format(severity_1/total))\n",
    "print(\"Severity 2: \", severity_2, \"{0:.2%} of total instances\".format(severity_2/total))\n",
    "print(\"Severity 3: \", severity_3, \"{0:.2%} of total instances\".format(severity_3/total))\n",
    "print(\"Severity 4: \", severity_4, \"{0:.2%} of total instances\".format(severity_4/total))"
   ]
  },
  {
   "cell_type": "markdown",
   "id": "773c27e8",
   "metadata": {},
   "source": [
    "#### Stats for TX data after cleaning"
   ]
  },
  {
   "cell_type": "code",
   "execution_count": 136,
   "id": "e141151f",
   "metadata": {},
   "outputs": [
    {
     "name": "stdout",
     "output_type": "stream",
     "text": [
      "61501\n",
      "Severity 1:  656 1.07% of total instances\n",
      "Severity 2:  40103 65.21% of total instances\n",
      "Severity 3:  17055 27.73% of total instances\n",
      "Severity 4:  3687 6.00% of total instances\n"
     ]
    }
   ],
   "source": [
    "df_new.Severity[df_new.State == 'TX'].value_counts()\n",
    "severity_2, severity_3, severity_4, severity_1 = df_new.Severity[df_new.State == 'TX'].value_counts()\n",
    "total = len(df_new.Severity[df_new.State == 'TX'])\n",
    "print (total)\n",
    "print(\"Severity 1: \", severity_1, \"{0:.2%} of total instances\".format(severity_1/total))\n",
    "print(\"Severity 2: \", severity_2, \"{0:.2%} of total instances\".format(severity_2/total))\n",
    "print(\"Severity 3: \", severity_3, \"{0:.2%} of total instances\".format(severity_3/total))\n",
    "print(\"Severity 4: \", severity_4, \"{0:.2%} of total instances\".format(severity_4/total))"
   ]
  },
  {
   "cell_type": "markdown",
   "id": "3248f9c2",
   "metadata": {},
   "source": [
    "#### Stats for TX data after deleting low counts"
   ]
  },
  {
   "cell_type": "code",
   "execution_count": 155,
   "id": "8c1e64c0",
   "metadata": {},
   "outputs": [
    {
     "name": "stdout",
     "output_type": "stream",
     "text": [
      "59497\n",
      "Severity 1:  640 1.08% of total instances\n",
      "Severity 2:  38735 65.10% of total instances\n",
      "Severity 3:  16812 28.26% of total instances\n",
      "Severity 4:  3310 5.56% of total instances\n"
     ]
    }
   ],
   "source": [
    "sub_df_new.Severity[sub_df_new.State == 'TX'].value_counts()\n",
    "severity_2, severity_3, severity_4, severity_1 = sub_df_new.Severity[sub_df_new.State == 'TX'].value_counts()\n",
    "total = len(sub_df_new.Severity[sub_df_new.State == 'TX'])\n",
    "print (total)\n",
    "print(\"Severity 1: \", severity_1, \"{0:.2%} of total instances\".format(severity_1/total))\n",
    "print(\"Severity 2: \", severity_2, \"{0:.2%} of total instances\".format(severity_2/total))\n",
    "print(\"Severity 3: \", severity_3, \"{0:.2%} of total instances\".format(severity_3/total))\n",
    "print(\"Severity 4: \", severity_4, \"{0:.2%} of total instances\".format(severity_4/total))"
   ]
  },
  {
   "cell_type": "markdown",
   "id": "6fffec11",
   "metadata": {},
   "source": [
    "#### Check cross street and street output"
   ]
  },
  {
   "cell_type": "code",
   "execution_count": 138,
   "id": "16680e01",
   "metadata": {},
   "outputs": [
    {
     "data": {
      "text/plain": [
       "Cross_street          Street           \n",
       "SAN BERNARDINO FWY E  I-10 E               3290\n",
       "SAN DIEGO FWY S       I-405 S              2574\n",
       "RIVERSIDE FWY E       CA-91 E              2034\n",
       "POMONA FWY W          CA-60 W              1891\n",
       "FL-94                 SW 88TH ST           1849\n",
       "US-1 N                S DIXIE HWY          1810\n",
       "FL-9                  NW 27TH AVE          1807\n",
       "FL-825                SW 137TH AVE         1774\n",
       "NIMITZ FWY S          I-880 S              1712\n",
       "US-1 S                S DIXIE HWY          1651\n",
       "FL-482                W SAND LAKE RD       1622\n",
       "US-41 S               SW 8TH ST            1609\n",
       "SANTA ANA FWY S       I-5 S                1564\n",
       "FL-423                S JOHN YOUNG PKWY    1548\n",
       "SAN DIEGO FWY S       I-5 S                1533\n",
       "I-210 W               FOOTHILL FWY W       1532\n",
       "RIVERSIDE FWY W       CA-91 W              1458\n",
       "I-210 E               FOOTHILL FWY E       1428\n",
       "I-95                  I-95 S               1391\n",
       "FL-985                SW 107TH AVE         1389\n",
       "dtype: int64"
      ]
     },
     "execution_count": 138,
     "metadata": {},
     "output_type": "execute_result"
    }
   ],
   "source": [
    "sub_df_new.value_counts(['Cross_street','Street']).nlargest(20) #San Bernandino Fwy/I-10 E pair has highest counts, confirmed from the raw data (below)"
   ]
  },
  {
   "cell_type": "markdown",
   "id": "4601f7b5",
   "metadata": {},
   "source": [
    "#### Check from raw data"
   ]
  },
  {
   "cell_type": "code",
   "execution_count": 139,
   "id": "46cd54e6",
   "metadata": {},
   "outputs": [
    {
     "data": {
      "text/plain": [
       "I-95 N    39853\n",
       "I-5 N     39402\n",
       "I-95 S    36425\n",
       "I-5 S     30229\n",
       "I-10 E    26164\n",
       "Name: Street, dtype: int64"
      ]
     },
     "execution_count": 139,
     "metadata": {},
     "output_type": "execute_result"
    }
   ],
   "source": [
    "df.Street.value_counts().nlargest(5)"
   ]
  },
  {
   "cell_type": "code",
   "execution_count": 140,
   "id": "7c775806",
   "metadata": {},
   "outputs": [],
   "source": [
    "df_I95N = df[df.Street =='I-95 N']\n",
    "df_I5N = df[df.Street =='I-5 N']\n",
    "df_I95S = df[df.Street=='I-95 S']\n",
    "df_I5S = df[df.Street =='I-5 S']\n",
    "df_I10E = df[df.Street =='I-10 E']"
   ]
  },
  {
   "cell_type": "code",
   "execution_count": 141,
   "id": "cc7d23dd",
   "metadata": {},
   "outputs": [
    {
     "data": {
      "text/plain": [
       "INCIDENT ON I-95 NB NEAR I-95 DRIVE WITH CAUTION.                                                                   979\n",
       "AT 151ST ST/EXIT 11 - ACCIDENT.                                                                                     140\n",
       "INCIDENT ON I-95 NEAR I-95 DRIVE WITH CAUTION.                                                                      138\n",
       "BETWEEN HUDSON TER/PALISADES PKY AND RT-9/US-9/HUDSON PKY/178TH ST - ACCIDENT.                                      129\n",
       "SLOW TRAFFIC ON I-95 N FROM I-195/FL-112/AIRPORT EXPY (I-95 HOV) TO I-95 (MIAMI) (S) (I-95 HOV) DUE TO ACCIDENT.    127\n",
       "Name: Description, dtype: int64"
      ]
     },
     "execution_count": 141,
     "metadata": {},
     "output_type": "execute_result"
    }
   ],
   "source": [
    "df_I95N.Description.value_counts().nlargest(5)"
   ]
  },
  {
   "cell_type": "code",
   "execution_count": 142,
   "id": "cafbb7fd",
   "metadata": {},
   "outputs": [
    {
     "data": {
      "text/plain": [
       "A CRASH HAS OCCURRED CAUSING NO TO MINIMUM DELAYS. USE CAUTION.    696\n",
       "HAZARDOUS DEBRIS IS CAUSING NO TO MINIMUM DELAYS. USE CAUTION.     289\n",
       "AT OR-214/EXIT 271 - ACCIDENT.                                     196\n",
       "AT INTERSTATE BRIDGE - ACCIDENT.                                   191\n",
       "AT OR-62/EXIT 30 - ACCIDENT.                                       188\n",
       "Name: Description, dtype: int64"
      ]
     },
     "execution_count": 142,
     "metadata": {},
     "output_type": "execute_result"
    }
   ],
   "source": [
    "df_I5N.Description.value_counts().nlargest(5)"
   ]
  },
  {
   "cell_type": "code",
   "execution_count": 143,
   "id": "3703f87f",
   "metadata": {},
   "outputs": [
    {
     "data": {
      "text/plain": [
       "INCIDENT ON I-95 SB NEAR I-95 DRIVE WITH CAUTION.                                                                           977\n",
       "SLOW TRAFFIC ON I-95 S FROM FL-816/NW 31ST ST/EXIT 31 (I-95) TO FL-842/BROWARD BLVD/EXIT 27 (I-95) DUE TO ACCIDENT.         258\n",
       "SLOW TRAFFIC ON I-95 S FROM I-95 (S) (I-95 EXP) TO I-95 (MIAMI) (N) (I-95 HOV) DUE TO ACCIDENT.                             183\n",
       "SLOW TRAFFIC ON I-95 S FROM I-95 EXP (I-95) TO I-395/FL-836/NE 3RD ST/NE 2ND AVE/EXIT 2D/EXIT 3A (I-95) DUE TO ACCIDENT.    161\n",
       "SLOW TRAFFIC ON I-95 S FROM PECAN PARK RD/EXIT 366 (I-95) TO I-295/EXIT 362 (I-95) DUE TO ACCIDENT.                         156\n",
       "Name: Description, dtype: int64"
      ]
     },
     "execution_count": 143,
     "metadata": {},
     "output_type": "execute_result"
    }
   ],
   "source": [
    "df_I95S.Description.value_counts().nlargest(5)"
   ]
  },
  {
   "cell_type": "code",
   "execution_count": 144,
   "id": "f0d051f6",
   "metadata": {},
   "outputs": [
    {
     "data": {
      "text/plain": [
       "A CRASH HAS OCCURRED CAUSING NO TO MINIMUM DELAYS. USE CAUTION.    571\n",
       "HAZARDOUS DEBRIS IS CAUSING NO TO MINIMUM DELAYS. USE CAUTION.     247\n",
       "AT I-5 - ACCIDENT.                                                 222\n",
       "AT OR-214/EXIT 271 - ACCIDENT.                                     207\n",
       "A CRASH HAS OCCURRED USE CAUTION.                                  184\n",
       "Name: Description, dtype: int64"
      ]
     },
     "execution_count": 144,
     "metadata": {},
     "output_type": "execute_result"
    }
   ],
   "source": [
    "df_I5S.Description.value_counts().nlargest(5)"
   ]
  },
  {
   "cell_type": "code",
   "execution_count": 145,
   "id": "02c2eecc",
   "metadata": {},
   "outputs": [
    {
     "name": "stdout",
     "output_type": "stream",
     "text": [
      "4216\n"
     ]
    }
   ],
   "source": [
    "#BERNARDINO FWY indeed has a high count in I-10 E accidents\n",
    "\n",
    "n = 0\n",
    "for i in df_I10E['Description']:\n",
    "    i = i.strip().upper().split()\n",
    "    if \"BERNARDINO\" in i:\n",
    "        n = n+1\n",
    "print(n)"
   ]
  },
  {
   "cell_type": "code",
   "execution_count": null,
   "id": "45dfee2d",
   "metadata": {},
   "outputs": [],
   "source": []
  }
 ],
 "metadata": {
  "kernelspec": {
   "display_name": "Python 3",
   "language": "python",
   "name": "python3"
  },
  "language_info": {
   "codemirror_mode": {
    "name": "ipython",
    "version": 3
   },
   "file_extension": ".py",
   "mimetype": "text/x-python",
   "name": "python",
   "nbconvert_exporter": "python",
   "pygments_lexer": "ipython3",
   "version": "3.8.8"
  }
 },
 "nbformat": 4,
 "nbformat_minor": 5
}
