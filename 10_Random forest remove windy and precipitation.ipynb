{
 "cells": [
  {
   "cell_type": "code",
   "execution_count": 1,
   "id": "0e7ec650",
   "metadata": {},
   "outputs": [],
   "source": [
    "import numpy as np\n",
    "import pandas as pd  # for data analytics\n",
    "\n",
    "# The two packages below are for plotting\n",
    "import seaborn as sns  #seaborn has nice features. Need to load pyplot with seaborn at the same time\n",
    "import matplotlib.pyplot as plt\n",
    "%matplotlib inline\n",
    "\n",
    "from sklearn.model_selection import train_test_split"
   ]
  },
  {
   "cell_type": "code",
   "execution_count": 2,
   "id": "11599177",
   "metadata": {},
   "outputs": [],
   "source": [
    "import warnings\n",
    "warnings.filterwarnings('ignore')"
   ]
  },
  {
   "cell_type": "code",
   "execution_count": 3,
   "id": "b7e3288e",
   "metadata": {},
   "outputs": [],
   "source": [
    "from imblearn.over_sampling import RandomOverSampler\n",
    "from imblearn.under_sampling import RandomUnderSampler\n",
    "from collections import Counter"
   ]
  },
  {
   "cell_type": "code",
   "execution_count": 4,
   "id": "cc7966c8",
   "metadata": {},
   "outputs": [],
   "source": [
    "df = pd.read_csv('national_accidents_attributes_adjusted.csv')"
   ]
  },
  {
   "cell_type": "code",
   "execution_count": 5,
   "id": "922ef6b5",
   "metadata": {},
   "outputs": [
    {
     "data": {
      "text/html": [
       "<div>\n",
       "<style scoped>\n",
       "    .dataframe tbody tr th:only-of-type {\n",
       "        vertical-align: middle;\n",
       "    }\n",
       "\n",
       "    .dataframe tbody tr th {\n",
       "        vertical-align: top;\n",
       "    }\n",
       "\n",
       "    .dataframe thead th {\n",
       "        text-align: right;\n",
       "    }\n",
       "</style>\n",
       "<table border=\"1\" class=\"dataframe\">\n",
       "  <thead>\n",
       "    <tr style=\"text-align: right;\">\n",
       "      <th></th>\n",
       "      <th>Severity</th>\n",
       "      <th>Start_Time</th>\n",
       "      <th>City</th>\n",
       "      <th>State</th>\n",
       "      <th>Weather_Timestamp</th>\n",
       "      <th>Temp_F</th>\n",
       "      <th>Humidity_percent</th>\n",
       "      <th>Pressure_in</th>\n",
       "      <th>Visibility_mi</th>\n",
       "      <th>Wind_Direction</th>\n",
       "      <th>Wind_Speed_mph</th>\n",
       "      <th>Precipitation_in</th>\n",
       "      <th>Amenity</th>\n",
       "      <th>Bump</th>\n",
       "      <th>Crossing</th>\n",
       "      <th>Give_Way</th>\n",
       "      <th>Junction</th>\n",
       "      <th>No_Exit</th>\n",
       "      <th>Railway</th>\n",
       "      <th>Roundabout</th>\n",
       "      <th>Station</th>\n",
       "      <th>Stop</th>\n",
       "      <th>Traffic_Calming</th>\n",
       "      <th>Traffic_Signal</th>\n",
       "      <th>Turning_Loop</th>\n",
       "      <th>Sunrise_Sunset</th>\n",
       "      <th>Street</th>\n",
       "      <th>Cross_street</th>\n",
       "      <th>CLOUDY</th>\n",
       "      <th>RAIN</th>\n",
       "      <th>FOG</th>\n",
       "      <th>THUNDER</th>\n",
       "      <th>WINDY</th>\n",
       "      <th>SNOW</th>\n",
       "      <th>SLEET</th>\n",
       "      <th>DUST</th>\n",
       "      <th>TORNADO</th>\n",
       "      <th>HAIL</th>\n",
       "      <th>Non_workday</th>\n",
       "      <th>Work_day</th>\n",
       "      <th>Rush_hour</th>\n",
       "      <th>Severity_simple</th>\n",
       "    </tr>\n",
       "  </thead>\n",
       "  <tbody>\n",
       "    <tr>\n",
       "      <th>0</th>\n",
       "      <td>3</td>\n",
       "      <td>2016-02-08 00:37:08</td>\n",
       "      <td>Dublin</td>\n",
       "      <td>OH</td>\n",
       "      <td>2016-02-08 00:53:00</td>\n",
       "      <td>42.1</td>\n",
       "      <td>58.0</td>\n",
       "      <td>29.76</td>\n",
       "      <td>10.0</td>\n",
       "      <td>SW</td>\n",
       "      <td>10.4</td>\n",
       "      <td>0.00</td>\n",
       "      <td>False</td>\n",
       "      <td>False</td>\n",
       "      <td>False</td>\n",
       "      <td>False</td>\n",
       "      <td>False</td>\n",
       "      <td>False</td>\n",
       "      <td>False</td>\n",
       "      <td>False</td>\n",
       "      <td>False</td>\n",
       "      <td>False</td>\n",
       "      <td>False</td>\n",
       "      <td>False</td>\n",
       "      <td>False</td>\n",
       "      <td>Night</td>\n",
       "      <td>OUTERBELT E</td>\n",
       "      <td>SAWMILL RD</td>\n",
       "      <td>0</td>\n",
       "      <td>1</td>\n",
       "      <td>0</td>\n",
       "      <td>0</td>\n",
       "      <td>0</td>\n",
       "      <td>0</td>\n",
       "      <td>0</td>\n",
       "      <td>0</td>\n",
       "      <td>0</td>\n",
       "      <td>0</td>\n",
       "      <td>0</td>\n",
       "      <td>1</td>\n",
       "      <td>0</td>\n",
       "      <td>1</td>\n",
       "    </tr>\n",
       "    <tr>\n",
       "      <th>1</th>\n",
       "      <td>2</td>\n",
       "      <td>2016-02-08 05:56:20</td>\n",
       "      <td>Dayton</td>\n",
       "      <td>OH</td>\n",
       "      <td>2016-02-08 05:58:00</td>\n",
       "      <td>36.9</td>\n",
       "      <td>91.0</td>\n",
       "      <td>29.68</td>\n",
       "      <td>10.0</td>\n",
       "      <td>CALM</td>\n",
       "      <td>7.0</td>\n",
       "      <td>0.02</td>\n",
       "      <td>False</td>\n",
       "      <td>False</td>\n",
       "      <td>False</td>\n",
       "      <td>False</td>\n",
       "      <td>False</td>\n",
       "      <td>False</td>\n",
       "      <td>False</td>\n",
       "      <td>False</td>\n",
       "      <td>False</td>\n",
       "      <td>False</td>\n",
       "      <td>False</td>\n",
       "      <td>False</td>\n",
       "      <td>False</td>\n",
       "      <td>Night</td>\n",
       "      <td>I-70 E</td>\n",
       "      <td>OH-4</td>\n",
       "      <td>0</td>\n",
       "      <td>1</td>\n",
       "      <td>0</td>\n",
       "      <td>0</td>\n",
       "      <td>0</td>\n",
       "      <td>0</td>\n",
       "      <td>0</td>\n",
       "      <td>0</td>\n",
       "      <td>0</td>\n",
       "      <td>0</td>\n",
       "      <td>0</td>\n",
       "      <td>1</td>\n",
       "      <td>0</td>\n",
       "      <td>0</td>\n",
       "    </tr>\n",
       "    <tr>\n",
       "      <th>2</th>\n",
       "      <td>2</td>\n",
       "      <td>2016-02-08 06:15:39</td>\n",
       "      <td>Cincinnati</td>\n",
       "      <td>OH</td>\n",
       "      <td>2016-02-08 05:53:00</td>\n",
       "      <td>36.0</td>\n",
       "      <td>97.0</td>\n",
       "      <td>29.70</td>\n",
       "      <td>10.0</td>\n",
       "      <td>CALM</td>\n",
       "      <td>7.0</td>\n",
       "      <td>0.02</td>\n",
       "      <td>False</td>\n",
       "      <td>False</td>\n",
       "      <td>False</td>\n",
       "      <td>False</td>\n",
       "      <td>True</td>\n",
       "      <td>False</td>\n",
       "      <td>False</td>\n",
       "      <td>False</td>\n",
       "      <td>False</td>\n",
       "      <td>False</td>\n",
       "      <td>False</td>\n",
       "      <td>False</td>\n",
       "      <td>False</td>\n",
       "      <td>Night</td>\n",
       "      <td>I-75 S</td>\n",
       "      <td>I-71</td>\n",
       "      <td>1</td>\n",
       "      <td>0</td>\n",
       "      <td>0</td>\n",
       "      <td>0</td>\n",
       "      <td>0</td>\n",
       "      <td>0</td>\n",
       "      <td>0</td>\n",
       "      <td>0</td>\n",
       "      <td>0</td>\n",
       "      <td>0</td>\n",
       "      <td>0</td>\n",
       "      <td>1</td>\n",
       "      <td>0</td>\n",
       "      <td>0</td>\n",
       "    </tr>\n",
       "    <tr>\n",
       "      <th>3</th>\n",
       "      <td>2</td>\n",
       "      <td>2016-02-08 06:51:45</td>\n",
       "      <td>Akron</td>\n",
       "      <td>OH</td>\n",
       "      <td>2016-02-08 06:54:00</td>\n",
       "      <td>39.0</td>\n",
       "      <td>55.0</td>\n",
       "      <td>29.65</td>\n",
       "      <td>10.0</td>\n",
       "      <td>CALM</td>\n",
       "      <td>7.0</td>\n",
       "      <td>0.00</td>\n",
       "      <td>False</td>\n",
       "      <td>False</td>\n",
       "      <td>False</td>\n",
       "      <td>False</td>\n",
       "      <td>False</td>\n",
       "      <td>False</td>\n",
       "      <td>False</td>\n",
       "      <td>False</td>\n",
       "      <td>False</td>\n",
       "      <td>False</td>\n",
       "      <td>False</td>\n",
       "      <td>False</td>\n",
       "      <td>False</td>\n",
       "      <td>Night</td>\n",
       "      <td>I-77 N</td>\n",
       "      <td>DART AVE</td>\n",
       "      <td>1</td>\n",
       "      <td>0</td>\n",
       "      <td>0</td>\n",
       "      <td>0</td>\n",
       "      <td>0</td>\n",
       "      <td>0</td>\n",
       "      <td>0</td>\n",
       "      <td>0</td>\n",
       "      <td>0</td>\n",
       "      <td>0</td>\n",
       "      <td>0</td>\n",
       "      <td>1</td>\n",
       "      <td>0</td>\n",
       "      <td>0</td>\n",
       "    </tr>\n",
       "    <tr>\n",
       "      <th>4</th>\n",
       "      <td>3</td>\n",
       "      <td>2016-02-08 07:53:43</td>\n",
       "      <td>Cincinnati</td>\n",
       "      <td>OH</td>\n",
       "      <td>2016-02-08 07:53:00</td>\n",
       "      <td>37.0</td>\n",
       "      <td>93.0</td>\n",
       "      <td>29.69</td>\n",
       "      <td>10.0</td>\n",
       "      <td>WSW</td>\n",
       "      <td>10.4</td>\n",
       "      <td>0.01</td>\n",
       "      <td>False</td>\n",
       "      <td>False</td>\n",
       "      <td>False</td>\n",
       "      <td>False</td>\n",
       "      <td>False</td>\n",
       "      <td>False</td>\n",
       "      <td>False</td>\n",
       "      <td>False</td>\n",
       "      <td>False</td>\n",
       "      <td>False</td>\n",
       "      <td>False</td>\n",
       "      <td>False</td>\n",
       "      <td>False</td>\n",
       "      <td>Day</td>\n",
       "      <td>I-75 S</td>\n",
       "      <td>MITCHELL AVE</td>\n",
       "      <td>0</td>\n",
       "      <td>1</td>\n",
       "      <td>0</td>\n",
       "      <td>0</td>\n",
       "      <td>0</td>\n",
       "      <td>0</td>\n",
       "      <td>0</td>\n",
       "      <td>0</td>\n",
       "      <td>0</td>\n",
       "      <td>0</td>\n",
       "      <td>0</td>\n",
       "      <td>1</td>\n",
       "      <td>1</td>\n",
       "      <td>1</td>\n",
       "    </tr>\n",
       "  </tbody>\n",
       "</table>\n",
       "</div>"
      ],
      "text/plain": [
       "   Severity           Start_Time        City State    Weather_Timestamp  \\\n",
       "0         3  2016-02-08 00:37:08      Dublin    OH  2016-02-08 00:53:00   \n",
       "1         2  2016-02-08 05:56:20      Dayton    OH  2016-02-08 05:58:00   \n",
       "2         2  2016-02-08 06:15:39  Cincinnati    OH  2016-02-08 05:53:00   \n",
       "3         2  2016-02-08 06:51:45       Akron    OH  2016-02-08 06:54:00   \n",
       "4         3  2016-02-08 07:53:43  Cincinnati    OH  2016-02-08 07:53:00   \n",
       "\n",
       "   Temp_F  Humidity_percent  Pressure_in  Visibility_mi Wind_Direction  \\\n",
       "0    42.1              58.0        29.76           10.0             SW   \n",
       "1    36.9              91.0        29.68           10.0           CALM   \n",
       "2    36.0              97.0        29.70           10.0           CALM   \n",
       "3    39.0              55.0        29.65           10.0           CALM   \n",
       "4    37.0              93.0        29.69           10.0            WSW   \n",
       "\n",
       "   Wind_Speed_mph  Precipitation_in  Amenity   Bump  Crossing  Give_Way  \\\n",
       "0            10.4              0.00    False  False     False     False   \n",
       "1             7.0              0.02    False  False     False     False   \n",
       "2             7.0              0.02    False  False     False     False   \n",
       "3             7.0              0.00    False  False     False     False   \n",
       "4            10.4              0.01    False  False     False     False   \n",
       "\n",
       "   Junction  No_Exit  Railway  Roundabout  Station   Stop  Traffic_Calming  \\\n",
       "0     False    False    False       False    False  False            False   \n",
       "1     False    False    False       False    False  False            False   \n",
       "2      True    False    False       False    False  False            False   \n",
       "3     False    False    False       False    False  False            False   \n",
       "4     False    False    False       False    False  False            False   \n",
       "\n",
       "   Traffic_Signal  Turning_Loop Sunrise_Sunset       Street  Cross_street  \\\n",
       "0           False         False          Night  OUTERBELT E    SAWMILL RD   \n",
       "1           False         False          Night       I-70 E          OH-4   \n",
       "2           False         False          Night       I-75 S          I-71   \n",
       "3           False         False          Night       I-77 N      DART AVE   \n",
       "4           False         False            Day       I-75 S  MITCHELL AVE   \n",
       "\n",
       "   CLOUDY  RAIN  FOG  THUNDER  WINDY  SNOW  SLEET  DUST  TORNADO  HAIL  \\\n",
       "0       0     1    0        0      0     0      0     0        0     0   \n",
       "1       0     1    0        0      0     0      0     0        0     0   \n",
       "2       1     0    0        0      0     0      0     0        0     0   \n",
       "3       1     0    0        0      0     0      0     0        0     0   \n",
       "4       0     1    0        0      0     0      0     0        0     0   \n",
       "\n",
       "   Non_workday  Work_day  Rush_hour  Severity_simple  \n",
       "0            0         1          0                1  \n",
       "1            0         1          0                0  \n",
       "2            0         1          0                0  \n",
       "3            0         1          0                0  \n",
       "4            0         1          1                1  "
      ]
     },
     "execution_count": 5,
     "metadata": {},
     "output_type": "execute_result"
    }
   ],
   "source": [
    "pd.set_option(\"display.max_columns\", None)\n",
    "pd.set_option(\"display.max_rows\", None)\n",
    "pd.set_option('display.max_colwidth', None)\n",
    "pd.set_option(\"display.max_rows\", None)\n",
    "df.head()"
   ]
  },
  {
   "cell_type": "code",
   "execution_count": 6,
   "id": "7e5938ca",
   "metadata": {},
   "outputs": [
    {
     "data": {
      "text/html": [
       "<div>\n",
       "<style scoped>\n",
       "    .dataframe tbody tr th:only-of-type {\n",
       "        vertical-align: middle;\n",
       "    }\n",
       "\n",
       "    .dataframe tbody tr th {\n",
       "        vertical-align: top;\n",
       "    }\n",
       "\n",
       "    .dataframe thead th {\n",
       "        text-align: right;\n",
       "    }\n",
       "</style>\n",
       "<table border=\"1\" class=\"dataframe\">\n",
       "  <thead>\n",
       "    <tr style=\"text-align: right;\">\n",
       "      <th></th>\n",
       "      <th>Severity</th>\n",
       "      <th>Temp_F</th>\n",
       "      <th>Humidity_percent</th>\n",
       "      <th>Pressure_in</th>\n",
       "      <th>Visibility_mi</th>\n",
       "      <th>Wind_Speed_mph</th>\n",
       "      <th>Precipitation_in</th>\n",
       "      <th>CLOUDY</th>\n",
       "      <th>RAIN</th>\n",
       "      <th>FOG</th>\n",
       "      <th>THUNDER</th>\n",
       "      <th>WINDY</th>\n",
       "      <th>SNOW</th>\n",
       "      <th>SLEET</th>\n",
       "      <th>DUST</th>\n",
       "      <th>TORNADO</th>\n",
       "      <th>HAIL</th>\n",
       "      <th>Non_workday</th>\n",
       "      <th>Work_day</th>\n",
       "      <th>Rush_hour</th>\n",
       "      <th>Severity_simple</th>\n",
       "    </tr>\n",
       "  </thead>\n",
       "  <tbody>\n",
       "    <tr>\n",
       "      <th>count</th>\n",
       "      <td>1.184871e+06</td>\n",
       "      <td>1.184871e+06</td>\n",
       "      <td>1.184871e+06</td>\n",
       "      <td>1.184871e+06</td>\n",
       "      <td>1.184871e+06</td>\n",
       "      <td>1.184871e+06</td>\n",
       "      <td>1.184871e+06</td>\n",
       "      <td>1.184871e+06</td>\n",
       "      <td>1.184871e+06</td>\n",
       "      <td>1.184871e+06</td>\n",
       "      <td>1.184871e+06</td>\n",
       "      <td>1.184871e+06</td>\n",
       "      <td>1.184871e+06</td>\n",
       "      <td>1.184871e+06</td>\n",
       "      <td>1.184871e+06</td>\n",
       "      <td>1.184871e+06</td>\n",
       "      <td>1.184871e+06</td>\n",
       "      <td>1.184871e+06</td>\n",
       "      <td>1.184871e+06</td>\n",
       "      <td>1.184871e+06</td>\n",
       "      <td>1.184871e+06</td>\n",
       "    </tr>\n",
       "    <tr>\n",
       "      <th>mean</th>\n",
       "      <td>2.222448e+00</td>\n",
       "      <td>6.237918e+01</td>\n",
       "      <td>6.308089e+01</td>\n",
       "      <td>2.955843e+01</td>\n",
       "      <td>9.151159e+00</td>\n",
       "      <td>7.784320e+00</td>\n",
       "      <td>6.405431e-03</td>\n",
       "      <td>4.300181e-01</td>\n",
       "      <td>1.000210e-01</td>\n",
       "      <td>2.837018e-02</td>\n",
       "      <td>8.616128e-03</td>\n",
       "      <td>1.342003e-02</td>\n",
       "      <td>1.827625e-02</td>\n",
       "      <td>2.501538e-03</td>\n",
       "      <td>1.527592e-04</td>\n",
       "      <td>5.907816e-06</td>\n",
       "      <td>1.265961e-05</td>\n",
       "      <td>9.431238e-02</td>\n",
       "      <td>9.056876e-01</td>\n",
       "      <td>1.054959e-01</td>\n",
       "      <td>1.727977e-01</td>\n",
       "    </tr>\n",
       "    <tr>\n",
       "      <th>std</th>\n",
       "      <td>5.752754e-01</td>\n",
       "      <td>1.832461e+01</td>\n",
       "      <td>2.293234e+01</td>\n",
       "      <td>1.018704e+00</td>\n",
       "      <td>2.932016e+00</td>\n",
       "      <td>5.185903e+00</td>\n",
       "      <td>1.014427e-01</td>\n",
       "      <td>4.950785e-01</td>\n",
       "      <td>3.850142e-01</td>\n",
       "      <td>1.660281e-01</td>\n",
       "      <td>9.242239e-02</td>\n",
       "      <td>1.150649e-01</td>\n",
       "      <td>1.339487e-01</td>\n",
       "      <td>6.531417e-02</td>\n",
       "      <td>1.235864e-02</td>\n",
       "      <td>2.430594e-03</td>\n",
       "      <td>3.558013e-03</td>\n",
       "      <td>2.922629e-01</td>\n",
       "      <td>2.922629e-01</td>\n",
       "      <td>3.071914e-01</td>\n",
       "      <td>3.780725e-01</td>\n",
       "    </tr>\n",
       "    <tr>\n",
       "      <th>min</th>\n",
       "      <td>1.000000e+00</td>\n",
       "      <td>-2.790000e+01</td>\n",
       "      <td>1.000000e+00</td>\n",
       "      <td>2.000000e-02</td>\n",
       "      <td>0.000000e+00</td>\n",
       "      <td>0.000000e+00</td>\n",
       "      <td>0.000000e+00</td>\n",
       "      <td>0.000000e+00</td>\n",
       "      <td>0.000000e+00</td>\n",
       "      <td>0.000000e+00</td>\n",
       "      <td>0.000000e+00</td>\n",
       "      <td>0.000000e+00</td>\n",
       "      <td>0.000000e+00</td>\n",
       "      <td>0.000000e+00</td>\n",
       "      <td>0.000000e+00</td>\n",
       "      <td>0.000000e+00</td>\n",
       "      <td>0.000000e+00</td>\n",
       "      <td>0.000000e+00</td>\n",
       "      <td>0.000000e+00</td>\n",
       "      <td>0.000000e+00</td>\n",
       "      <td>0.000000e+00</td>\n",
       "    </tr>\n",
       "    <tr>\n",
       "      <th>25%</th>\n",
       "      <td>2.000000e+00</td>\n",
       "      <td>5.100000e+01</td>\n",
       "      <td>4.700000e+01</td>\n",
       "      <td>2.947000e+01</td>\n",
       "      <td>1.000000e+01</td>\n",
       "      <td>5.000000e+00</td>\n",
       "      <td>0.000000e+00</td>\n",
       "      <td>0.000000e+00</td>\n",
       "      <td>0.000000e+00</td>\n",
       "      <td>0.000000e+00</td>\n",
       "      <td>0.000000e+00</td>\n",
       "      <td>0.000000e+00</td>\n",
       "      <td>0.000000e+00</td>\n",
       "      <td>0.000000e+00</td>\n",
       "      <td>0.000000e+00</td>\n",
       "      <td>0.000000e+00</td>\n",
       "      <td>0.000000e+00</td>\n",
       "      <td>0.000000e+00</td>\n",
       "      <td>1.000000e+00</td>\n",
       "      <td>0.000000e+00</td>\n",
       "      <td>0.000000e+00</td>\n",
       "    </tr>\n",
       "    <tr>\n",
       "      <th>50%</th>\n",
       "      <td>2.000000e+00</td>\n",
       "      <td>6.400000e+01</td>\n",
       "      <td>6.500000e+01</td>\n",
       "      <td>2.988000e+01</td>\n",
       "      <td>1.000000e+01</td>\n",
       "      <td>7.000000e+00</td>\n",
       "      <td>0.000000e+00</td>\n",
       "      <td>0.000000e+00</td>\n",
       "      <td>0.000000e+00</td>\n",
       "      <td>0.000000e+00</td>\n",
       "      <td>0.000000e+00</td>\n",
       "      <td>0.000000e+00</td>\n",
       "      <td>0.000000e+00</td>\n",
       "      <td>0.000000e+00</td>\n",
       "      <td>0.000000e+00</td>\n",
       "      <td>0.000000e+00</td>\n",
       "      <td>0.000000e+00</td>\n",
       "      <td>0.000000e+00</td>\n",
       "      <td>1.000000e+00</td>\n",
       "      <td>0.000000e+00</td>\n",
       "      <td>0.000000e+00</td>\n",
       "    </tr>\n",
       "    <tr>\n",
       "      <th>75%</th>\n",
       "      <td>2.000000e+00</td>\n",
       "      <td>7.600000e+01</td>\n",
       "      <td>8.200000e+01</td>\n",
       "      <td>3.004000e+01</td>\n",
       "      <td>1.000000e+01</td>\n",
       "      <td>1.040000e+01</td>\n",
       "      <td>0.000000e+00</td>\n",
       "      <td>1.000000e+00</td>\n",
       "      <td>0.000000e+00</td>\n",
       "      <td>0.000000e+00</td>\n",
       "      <td>0.000000e+00</td>\n",
       "      <td>0.000000e+00</td>\n",
       "      <td>0.000000e+00</td>\n",
       "      <td>0.000000e+00</td>\n",
       "      <td>0.000000e+00</td>\n",
       "      <td>0.000000e+00</td>\n",
       "      <td>0.000000e+00</td>\n",
       "      <td>0.000000e+00</td>\n",
       "      <td>1.000000e+00</td>\n",
       "      <td>0.000000e+00</td>\n",
       "      <td>0.000000e+00</td>\n",
       "    </tr>\n",
       "    <tr>\n",
       "      <th>max</th>\n",
       "      <td>4.000000e+00</td>\n",
       "      <td>1.184000e+02</td>\n",
       "      <td>1.000000e+02</td>\n",
       "      <td>5.890000e+01</td>\n",
       "      <td>1.400000e+02</td>\n",
       "      <td>1.698876e+02</td>\n",
       "      <td>2.400000e+01</td>\n",
       "      <td>1.000000e+00</td>\n",
       "      <td>3.000000e+00</td>\n",
       "      <td>1.000000e+00</td>\n",
       "      <td>1.000000e+00</td>\n",
       "      <td>1.000000e+00</td>\n",
       "      <td>1.000000e+00</td>\n",
       "      <td>3.000000e+00</td>\n",
       "      <td>1.000000e+00</td>\n",
       "      <td>1.000000e+00</td>\n",
       "      <td>1.000000e+00</td>\n",
       "      <td>1.000000e+00</td>\n",
       "      <td>1.000000e+00</td>\n",
       "      <td>1.000000e+00</td>\n",
       "      <td>1.000000e+00</td>\n",
       "    </tr>\n",
       "  </tbody>\n",
       "</table>\n",
       "</div>"
      ],
      "text/plain": [
       "           Severity        Temp_F  Humidity_percent   Pressure_in  \\\n",
       "count  1.184871e+06  1.184871e+06      1.184871e+06  1.184871e+06   \n",
       "mean   2.222448e+00  6.237918e+01      6.308089e+01  2.955843e+01   \n",
       "std    5.752754e-01  1.832461e+01      2.293234e+01  1.018704e+00   \n",
       "min    1.000000e+00 -2.790000e+01      1.000000e+00  2.000000e-02   \n",
       "25%    2.000000e+00  5.100000e+01      4.700000e+01  2.947000e+01   \n",
       "50%    2.000000e+00  6.400000e+01      6.500000e+01  2.988000e+01   \n",
       "75%    2.000000e+00  7.600000e+01      8.200000e+01  3.004000e+01   \n",
       "max    4.000000e+00  1.184000e+02      1.000000e+02  5.890000e+01   \n",
       "\n",
       "       Visibility_mi  Wind_Speed_mph  Precipitation_in        CLOUDY  \\\n",
       "count   1.184871e+06    1.184871e+06      1.184871e+06  1.184871e+06   \n",
       "mean    9.151159e+00    7.784320e+00      6.405431e-03  4.300181e-01   \n",
       "std     2.932016e+00    5.185903e+00      1.014427e-01  4.950785e-01   \n",
       "min     0.000000e+00    0.000000e+00      0.000000e+00  0.000000e+00   \n",
       "25%     1.000000e+01    5.000000e+00      0.000000e+00  0.000000e+00   \n",
       "50%     1.000000e+01    7.000000e+00      0.000000e+00  0.000000e+00   \n",
       "75%     1.000000e+01    1.040000e+01      0.000000e+00  1.000000e+00   \n",
       "max     1.400000e+02    1.698876e+02      2.400000e+01  1.000000e+00   \n",
       "\n",
       "               RAIN           FOG       THUNDER         WINDY          SNOW  \\\n",
       "count  1.184871e+06  1.184871e+06  1.184871e+06  1.184871e+06  1.184871e+06   \n",
       "mean   1.000210e-01  2.837018e-02  8.616128e-03  1.342003e-02  1.827625e-02   \n",
       "std    3.850142e-01  1.660281e-01  9.242239e-02  1.150649e-01  1.339487e-01   \n",
       "min    0.000000e+00  0.000000e+00  0.000000e+00  0.000000e+00  0.000000e+00   \n",
       "25%    0.000000e+00  0.000000e+00  0.000000e+00  0.000000e+00  0.000000e+00   \n",
       "50%    0.000000e+00  0.000000e+00  0.000000e+00  0.000000e+00  0.000000e+00   \n",
       "75%    0.000000e+00  0.000000e+00  0.000000e+00  0.000000e+00  0.000000e+00   \n",
       "max    3.000000e+00  1.000000e+00  1.000000e+00  1.000000e+00  1.000000e+00   \n",
       "\n",
       "              SLEET          DUST       TORNADO          HAIL   Non_workday  \\\n",
       "count  1.184871e+06  1.184871e+06  1.184871e+06  1.184871e+06  1.184871e+06   \n",
       "mean   2.501538e-03  1.527592e-04  5.907816e-06  1.265961e-05  9.431238e-02   \n",
       "std    6.531417e-02  1.235864e-02  2.430594e-03  3.558013e-03  2.922629e-01   \n",
       "min    0.000000e+00  0.000000e+00  0.000000e+00  0.000000e+00  0.000000e+00   \n",
       "25%    0.000000e+00  0.000000e+00  0.000000e+00  0.000000e+00  0.000000e+00   \n",
       "50%    0.000000e+00  0.000000e+00  0.000000e+00  0.000000e+00  0.000000e+00   \n",
       "75%    0.000000e+00  0.000000e+00  0.000000e+00  0.000000e+00  0.000000e+00   \n",
       "max    3.000000e+00  1.000000e+00  1.000000e+00  1.000000e+00  1.000000e+00   \n",
       "\n",
       "           Work_day     Rush_hour  Severity_simple  \n",
       "count  1.184871e+06  1.184871e+06     1.184871e+06  \n",
       "mean   9.056876e-01  1.054959e-01     1.727977e-01  \n",
       "std    2.922629e-01  3.071914e-01     3.780725e-01  \n",
       "min    0.000000e+00  0.000000e+00     0.000000e+00  \n",
       "25%    1.000000e+00  0.000000e+00     0.000000e+00  \n",
       "50%    1.000000e+00  0.000000e+00     0.000000e+00  \n",
       "75%    1.000000e+00  0.000000e+00     0.000000e+00  \n",
       "max    1.000000e+00  1.000000e+00     1.000000e+00  "
      ]
     },
     "execution_count": 6,
     "metadata": {},
     "output_type": "execute_result"
    }
   ],
   "source": [
    "df.describe()"
   ]
  },
  {
   "cell_type": "code",
   "execution_count": 7,
   "id": "818be4d4",
   "metadata": {},
   "outputs": [
    {
     "data": {
      "text/plain": [
       "0    980128\n",
       "1    204743\n",
       "Name: Severity_simple, dtype: int64"
      ]
     },
     "execution_count": 7,
     "metadata": {},
     "output_type": "execute_result"
    }
   ],
   "source": [
    "df.Severity_simple.value_counts()"
   ]
  },
  {
   "cell_type": "markdown",
   "id": "5d03da2d",
   "metadata": {},
   "source": [
    "## One hot encoding for 'Wind_Direction' and 'Sunrise_Sunset'"
   ]
  },
  {
   "cell_type": "code",
   "execution_count": 8,
   "id": "e4abacde",
   "metadata": {},
   "outputs": [],
   "source": [
    "catvar = ['Wind_Direction','Sunrise_Sunset']"
   ]
  },
  {
   "cell_type": "code",
   "execution_count": 9,
   "id": "0debae6e",
   "metadata": {},
   "outputs": [],
   "source": [
    "# One-hot encoding for catvar\n",
    "X_cat = df[catvar]\n",
    "\n",
    "from sklearn.preprocessing import OneHotEncoder\n",
    "my_encoder = OneHotEncoder(handle_unknown = 'ignore',sparse = False)\n",
    "X_encoded = my_encoder.fit_transform(X_cat)"
   ]
  },
  {
   "cell_type": "code",
   "execution_count": 10,
   "id": "be934288",
   "metadata": {},
   "outputs": [
    {
     "data": {
      "text/plain": [
       "(1184871, 20)"
      ]
     },
     "execution_count": 10,
     "metadata": {},
     "output_type": "execute_result"
    }
   ],
   "source": [
    "X_encoded.shape"
   ]
  },
  {
   "cell_type": "code",
   "execution_count": 11,
   "id": "da3f7d99",
   "metadata": {},
   "outputs": [
    {
     "name": "stdout",
     "output_type": "stream",
     "text": [
      "['CALM' 'E' 'ENE' 'ESE' 'N' 'NE' 'NNE' 'NNW' 'NW' 'S' 'SE' 'SSE' 'SSW'\n",
      " 'SW' 'VAR' 'W' 'WNW' 'WSW']\n",
      "['CALM', 'E', 'ENE', 'ESE', 'N', 'NE', 'NNE', 'NNW', 'NW', 'S', 'SE', 'SSE', 'SSW', 'SW', 'VAR', 'W', 'WNW', 'WSW', 'Day', 'Night']\n"
     ]
    }
   ],
   "source": [
    "print(my_encoder.categories_[0])\n",
    "X_encoded_cols = (list(my_encoder.categories_[0])+\n",
    "                 list(my_encoder.categories_[1]))\n",
    "print(X_encoded_cols)"
   ]
  },
  {
   "cell_type": "code",
   "execution_count": 12,
   "id": "7eeec54b",
   "metadata": {},
   "outputs": [],
   "source": [
    "X_encoded_df = pd.DataFrame(data = X_encoded, columns = X_encoded_cols)"
   ]
  },
  {
   "cell_type": "code",
   "execution_count": 13,
   "id": "f6d35893",
   "metadata": {},
   "outputs": [
    {
     "data": {
      "text/html": [
       "<div>\n",
       "<style scoped>\n",
       "    .dataframe tbody tr th:only-of-type {\n",
       "        vertical-align: middle;\n",
       "    }\n",
       "\n",
       "    .dataframe tbody tr th {\n",
       "        vertical-align: top;\n",
       "    }\n",
       "\n",
       "    .dataframe thead th {\n",
       "        text-align: right;\n",
       "    }\n",
       "</style>\n",
       "<table border=\"1\" class=\"dataframe\">\n",
       "  <thead>\n",
       "    <tr style=\"text-align: right;\">\n",
       "      <th></th>\n",
       "      <th>CALM</th>\n",
       "      <th>E</th>\n",
       "      <th>ENE</th>\n",
       "      <th>ESE</th>\n",
       "      <th>N</th>\n",
       "      <th>NE</th>\n",
       "      <th>NNE</th>\n",
       "      <th>NNW</th>\n",
       "      <th>NW</th>\n",
       "      <th>S</th>\n",
       "      <th>SE</th>\n",
       "      <th>SSE</th>\n",
       "      <th>SSW</th>\n",
       "      <th>SW</th>\n",
       "      <th>VAR</th>\n",
       "      <th>W</th>\n",
       "      <th>WNW</th>\n",
       "      <th>WSW</th>\n",
       "      <th>Day</th>\n",
       "      <th>Night</th>\n",
       "    </tr>\n",
       "  </thead>\n",
       "  <tbody>\n",
       "    <tr>\n",
       "      <th>0</th>\n",
       "      <td>0.0</td>\n",
       "      <td>0.0</td>\n",
       "      <td>0.0</td>\n",
       "      <td>0.0</td>\n",
       "      <td>0.0</td>\n",
       "      <td>0.0</td>\n",
       "      <td>0.0</td>\n",
       "      <td>0.0</td>\n",
       "      <td>0.0</td>\n",
       "      <td>0.0</td>\n",
       "      <td>0.0</td>\n",
       "      <td>0.0</td>\n",
       "      <td>0.0</td>\n",
       "      <td>1.0</td>\n",
       "      <td>0.0</td>\n",
       "      <td>0.0</td>\n",
       "      <td>0.0</td>\n",
       "      <td>0.0</td>\n",
       "      <td>0.0</td>\n",
       "      <td>1.0</td>\n",
       "    </tr>\n",
       "    <tr>\n",
       "      <th>1</th>\n",
       "      <td>1.0</td>\n",
       "      <td>0.0</td>\n",
       "      <td>0.0</td>\n",
       "      <td>0.0</td>\n",
       "      <td>0.0</td>\n",
       "      <td>0.0</td>\n",
       "      <td>0.0</td>\n",
       "      <td>0.0</td>\n",
       "      <td>0.0</td>\n",
       "      <td>0.0</td>\n",
       "      <td>0.0</td>\n",
       "      <td>0.0</td>\n",
       "      <td>0.0</td>\n",
       "      <td>0.0</td>\n",
       "      <td>0.0</td>\n",
       "      <td>0.0</td>\n",
       "      <td>0.0</td>\n",
       "      <td>0.0</td>\n",
       "      <td>0.0</td>\n",
       "      <td>1.0</td>\n",
       "    </tr>\n",
       "    <tr>\n",
       "      <th>2</th>\n",
       "      <td>1.0</td>\n",
       "      <td>0.0</td>\n",
       "      <td>0.0</td>\n",
       "      <td>0.0</td>\n",
       "      <td>0.0</td>\n",
       "      <td>0.0</td>\n",
       "      <td>0.0</td>\n",
       "      <td>0.0</td>\n",
       "      <td>0.0</td>\n",
       "      <td>0.0</td>\n",
       "      <td>0.0</td>\n",
       "      <td>0.0</td>\n",
       "      <td>0.0</td>\n",
       "      <td>0.0</td>\n",
       "      <td>0.0</td>\n",
       "      <td>0.0</td>\n",
       "      <td>0.0</td>\n",
       "      <td>0.0</td>\n",
       "      <td>0.0</td>\n",
       "      <td>1.0</td>\n",
       "    </tr>\n",
       "    <tr>\n",
       "      <th>3</th>\n",
       "      <td>1.0</td>\n",
       "      <td>0.0</td>\n",
       "      <td>0.0</td>\n",
       "      <td>0.0</td>\n",
       "      <td>0.0</td>\n",
       "      <td>0.0</td>\n",
       "      <td>0.0</td>\n",
       "      <td>0.0</td>\n",
       "      <td>0.0</td>\n",
       "      <td>0.0</td>\n",
       "      <td>0.0</td>\n",
       "      <td>0.0</td>\n",
       "      <td>0.0</td>\n",
       "      <td>0.0</td>\n",
       "      <td>0.0</td>\n",
       "      <td>0.0</td>\n",
       "      <td>0.0</td>\n",
       "      <td>0.0</td>\n",
       "      <td>0.0</td>\n",
       "      <td>1.0</td>\n",
       "    </tr>\n",
       "    <tr>\n",
       "      <th>4</th>\n",
       "      <td>0.0</td>\n",
       "      <td>0.0</td>\n",
       "      <td>0.0</td>\n",
       "      <td>0.0</td>\n",
       "      <td>0.0</td>\n",
       "      <td>0.0</td>\n",
       "      <td>0.0</td>\n",
       "      <td>0.0</td>\n",
       "      <td>0.0</td>\n",
       "      <td>0.0</td>\n",
       "      <td>0.0</td>\n",
       "      <td>0.0</td>\n",
       "      <td>0.0</td>\n",
       "      <td>0.0</td>\n",
       "      <td>0.0</td>\n",
       "      <td>0.0</td>\n",
       "      <td>0.0</td>\n",
       "      <td>1.0</td>\n",
       "      <td>1.0</td>\n",
       "      <td>0.0</td>\n",
       "    </tr>\n",
       "  </tbody>\n",
       "</table>\n",
       "</div>"
      ],
      "text/plain": [
       "   CALM    E  ENE  ESE    N   NE  NNE  NNW   NW    S   SE  SSE  SSW   SW  VAR  \\\n",
       "0   0.0  0.0  0.0  0.0  0.0  0.0  0.0  0.0  0.0  0.0  0.0  0.0  0.0  1.0  0.0   \n",
       "1   1.0  0.0  0.0  0.0  0.0  0.0  0.0  0.0  0.0  0.0  0.0  0.0  0.0  0.0  0.0   \n",
       "2   1.0  0.0  0.0  0.0  0.0  0.0  0.0  0.0  0.0  0.0  0.0  0.0  0.0  0.0  0.0   \n",
       "3   1.0  0.0  0.0  0.0  0.0  0.0  0.0  0.0  0.0  0.0  0.0  0.0  0.0  0.0  0.0   \n",
       "4   0.0  0.0  0.0  0.0  0.0  0.0  0.0  0.0  0.0  0.0  0.0  0.0  0.0  0.0  0.0   \n",
       "\n",
       "     W  WNW  WSW  Day  Night  \n",
       "0  0.0  0.0  0.0  0.0    1.0  \n",
       "1  0.0  0.0  0.0  0.0    1.0  \n",
       "2  0.0  0.0  0.0  0.0    1.0  \n",
       "3  0.0  0.0  0.0  0.0    1.0  \n",
       "4  0.0  0.0  1.0  1.0    0.0  "
      ]
     },
     "execution_count": 13,
     "metadata": {},
     "output_type": "execute_result"
    }
   ],
   "source": [
    "X_encoded_df.head()"
   ]
  },
  {
   "cell_type": "code",
   "execution_count": 14,
   "id": "c2d50354",
   "metadata": {},
   "outputs": [],
   "source": [
    "# Add encoded X_cat into df\n",
    "df2 = pd.concat([df, X_encoded_df], axis  = 1)"
   ]
  },
  {
   "cell_type": "markdown",
   "id": "cd842c02",
   "metadata": {},
   "source": [
    "## Cubic root transformation of all numerical variables (skewed but has negative values) "
   ]
  },
  {
   "cell_type": "code",
   "execution_count": 15,
   "id": "8898aca7",
   "metadata": {},
   "outputs": [],
   "source": [
    "num_var = ['Temp_F', 'Humidity_percent', 'Pressure_in', 'Visibility_mi', 'Wind_Speed_mph', 'Precipitation_in']\n",
    "for col in num_var:\n",
    "    df2[col+'_cubic_root'] = np.cbrt(df2[col])"
   ]
  },
  {
   "cell_type": "code",
   "execution_count": 16,
   "id": "4089f0c4",
   "metadata": {},
   "outputs": [
    {
     "data": {
      "text/plain": [
       "Severity                       0\n",
       "Start_Time                     0\n",
       "City                           0\n",
       "State                          0\n",
       "Weather_Timestamp              0\n",
       "Temp_F                         0\n",
       "Humidity_percent               0\n",
       "Pressure_in                    0\n",
       "Visibility_mi                  0\n",
       "Wind_Direction                 0\n",
       "Wind_Speed_mph                 0\n",
       "Precipitation_in               0\n",
       "Amenity                        0\n",
       "Bump                           0\n",
       "Crossing                       0\n",
       "Give_Way                       0\n",
       "Junction                       0\n",
       "No_Exit                        0\n",
       "Railway                        0\n",
       "Roundabout                     0\n",
       "Station                        0\n",
       "Stop                           0\n",
       "Traffic_Calming                0\n",
       "Traffic_Signal                 0\n",
       "Turning_Loop                   0\n",
       "Sunrise_Sunset                 0\n",
       "Street                         0\n",
       "Cross_street                   0\n",
       "CLOUDY                         0\n",
       "RAIN                           0\n",
       "FOG                            0\n",
       "THUNDER                        0\n",
       "WINDY                          0\n",
       "SNOW                           0\n",
       "SLEET                          0\n",
       "DUST                           0\n",
       "TORNADO                        0\n",
       "HAIL                           0\n",
       "Non_workday                    0\n",
       "Work_day                       0\n",
       "Rush_hour                      0\n",
       "Severity_simple                0\n",
       "CALM                           0\n",
       "E                              0\n",
       "ENE                            0\n",
       "ESE                            0\n",
       "N                              0\n",
       "NE                             0\n",
       "NNE                            0\n",
       "NNW                            0\n",
       "NW                             0\n",
       "S                              0\n",
       "SE                             0\n",
       "SSE                            0\n",
       "SSW                            0\n",
       "SW                             0\n",
       "VAR                            0\n",
       "W                              0\n",
       "WNW                            0\n",
       "WSW                            0\n",
       "Day                            0\n",
       "Night                          0\n",
       "Temp_F_cubic_root              0\n",
       "Humidity_percent_cubic_root    0\n",
       "Pressure_in_cubic_root         0\n",
       "Visibility_mi_cubic_root       0\n",
       "Wind_Speed_mph_cubic_root      0\n",
       "Precipitation_in_cubic_root    0\n",
       "dtype: int64"
      ]
     },
     "execution_count": 16,
     "metadata": {},
     "output_type": "execute_result"
    }
   ],
   "source": [
    "df2.isnull().sum()"
   ]
  },
  {
   "cell_type": "code",
   "execution_count": 17,
   "id": "a4ac25be",
   "metadata": {},
   "outputs": [],
   "source": [
    "df2 = df2.drop(columns = ['Severity','Start_Time','Weather_Timestamp','Wind_Direction','Sunrise_Sunset'])"
   ]
  },
  {
   "cell_type": "markdown",
   "id": "a46a47e6",
   "metadata": {},
   "source": [
    "## df2 is the final transformed, full dataset to run models "
   ]
  },
  {
   "cell_type": "code",
   "execution_count": 18,
   "id": "009b4a16",
   "metadata": {},
   "outputs": [
    {
     "data": {
      "text/html": [
       "<div>\n",
       "<style scoped>\n",
       "    .dataframe tbody tr th:only-of-type {\n",
       "        vertical-align: middle;\n",
       "    }\n",
       "\n",
       "    .dataframe tbody tr th {\n",
       "        vertical-align: top;\n",
       "    }\n",
       "\n",
       "    .dataframe thead th {\n",
       "        text-align: right;\n",
       "    }\n",
       "</style>\n",
       "<table border=\"1\" class=\"dataframe\">\n",
       "  <thead>\n",
       "    <tr style=\"text-align: right;\">\n",
       "      <th></th>\n",
       "      <th>City</th>\n",
       "      <th>State</th>\n",
       "      <th>Temp_F</th>\n",
       "      <th>Humidity_percent</th>\n",
       "      <th>Pressure_in</th>\n",
       "      <th>Visibility_mi</th>\n",
       "      <th>Wind_Speed_mph</th>\n",
       "      <th>Precipitation_in</th>\n",
       "      <th>Amenity</th>\n",
       "      <th>Bump</th>\n",
       "      <th>Crossing</th>\n",
       "      <th>Give_Way</th>\n",
       "      <th>Junction</th>\n",
       "      <th>No_Exit</th>\n",
       "      <th>Railway</th>\n",
       "      <th>Roundabout</th>\n",
       "      <th>Station</th>\n",
       "      <th>Stop</th>\n",
       "      <th>Traffic_Calming</th>\n",
       "      <th>Traffic_Signal</th>\n",
       "      <th>Turning_Loop</th>\n",
       "      <th>Street</th>\n",
       "      <th>Cross_street</th>\n",
       "      <th>CLOUDY</th>\n",
       "      <th>RAIN</th>\n",
       "      <th>FOG</th>\n",
       "      <th>THUNDER</th>\n",
       "      <th>WINDY</th>\n",
       "      <th>SNOW</th>\n",
       "      <th>SLEET</th>\n",
       "      <th>DUST</th>\n",
       "      <th>TORNADO</th>\n",
       "      <th>HAIL</th>\n",
       "      <th>Non_workday</th>\n",
       "      <th>Work_day</th>\n",
       "      <th>Rush_hour</th>\n",
       "      <th>Severity_simple</th>\n",
       "      <th>CALM</th>\n",
       "      <th>E</th>\n",
       "      <th>ENE</th>\n",
       "      <th>ESE</th>\n",
       "      <th>N</th>\n",
       "      <th>NE</th>\n",
       "      <th>NNE</th>\n",
       "      <th>NNW</th>\n",
       "      <th>NW</th>\n",
       "      <th>S</th>\n",
       "      <th>SE</th>\n",
       "      <th>SSE</th>\n",
       "      <th>SSW</th>\n",
       "      <th>SW</th>\n",
       "      <th>VAR</th>\n",
       "      <th>W</th>\n",
       "      <th>WNW</th>\n",
       "      <th>WSW</th>\n",
       "      <th>Day</th>\n",
       "      <th>Night</th>\n",
       "      <th>Temp_F_cubic_root</th>\n",
       "      <th>Humidity_percent_cubic_root</th>\n",
       "      <th>Pressure_in_cubic_root</th>\n",
       "      <th>Visibility_mi_cubic_root</th>\n",
       "      <th>Wind_Speed_mph_cubic_root</th>\n",
       "      <th>Precipitation_in_cubic_root</th>\n",
       "    </tr>\n",
       "  </thead>\n",
       "  <tbody>\n",
       "    <tr>\n",
       "      <th>0</th>\n",
       "      <td>Dublin</td>\n",
       "      <td>OH</td>\n",
       "      <td>42.1</td>\n",
       "      <td>58.0</td>\n",
       "      <td>29.76</td>\n",
       "      <td>10.0</td>\n",
       "      <td>10.4</td>\n",
       "      <td>0.00</td>\n",
       "      <td>False</td>\n",
       "      <td>False</td>\n",
       "      <td>False</td>\n",
       "      <td>False</td>\n",
       "      <td>False</td>\n",
       "      <td>False</td>\n",
       "      <td>False</td>\n",
       "      <td>False</td>\n",
       "      <td>False</td>\n",
       "      <td>False</td>\n",
       "      <td>False</td>\n",
       "      <td>False</td>\n",
       "      <td>False</td>\n",
       "      <td>OUTERBELT E</td>\n",
       "      <td>SAWMILL RD</td>\n",
       "      <td>0</td>\n",
       "      <td>1</td>\n",
       "      <td>0</td>\n",
       "      <td>0</td>\n",
       "      <td>0</td>\n",
       "      <td>0</td>\n",
       "      <td>0</td>\n",
       "      <td>0</td>\n",
       "      <td>0</td>\n",
       "      <td>0</td>\n",
       "      <td>0</td>\n",
       "      <td>1</td>\n",
       "      <td>0</td>\n",
       "      <td>1</td>\n",
       "      <td>0.0</td>\n",
       "      <td>0.0</td>\n",
       "      <td>0.0</td>\n",
       "      <td>0.0</td>\n",
       "      <td>0.0</td>\n",
       "      <td>0.0</td>\n",
       "      <td>0.0</td>\n",
       "      <td>0.0</td>\n",
       "      <td>0.0</td>\n",
       "      <td>0.0</td>\n",
       "      <td>0.0</td>\n",
       "      <td>0.0</td>\n",
       "      <td>0.0</td>\n",
       "      <td>1.0</td>\n",
       "      <td>0.0</td>\n",
       "      <td>0.0</td>\n",
       "      <td>0.0</td>\n",
       "      <td>0.0</td>\n",
       "      <td>0.0</td>\n",
       "      <td>1.0</td>\n",
       "      <td>3.478783</td>\n",
       "      <td>3.870877</td>\n",
       "      <td>3.098924</td>\n",
       "      <td>2.154435</td>\n",
       "      <td>2.182786</td>\n",
       "      <td>0.000000</td>\n",
       "    </tr>\n",
       "    <tr>\n",
       "      <th>1</th>\n",
       "      <td>Dayton</td>\n",
       "      <td>OH</td>\n",
       "      <td>36.9</td>\n",
       "      <td>91.0</td>\n",
       "      <td>29.68</td>\n",
       "      <td>10.0</td>\n",
       "      <td>7.0</td>\n",
       "      <td>0.02</td>\n",
       "      <td>False</td>\n",
       "      <td>False</td>\n",
       "      <td>False</td>\n",
       "      <td>False</td>\n",
       "      <td>False</td>\n",
       "      <td>False</td>\n",
       "      <td>False</td>\n",
       "      <td>False</td>\n",
       "      <td>False</td>\n",
       "      <td>False</td>\n",
       "      <td>False</td>\n",
       "      <td>False</td>\n",
       "      <td>False</td>\n",
       "      <td>I-70 E</td>\n",
       "      <td>OH-4</td>\n",
       "      <td>0</td>\n",
       "      <td>1</td>\n",
       "      <td>0</td>\n",
       "      <td>0</td>\n",
       "      <td>0</td>\n",
       "      <td>0</td>\n",
       "      <td>0</td>\n",
       "      <td>0</td>\n",
       "      <td>0</td>\n",
       "      <td>0</td>\n",
       "      <td>0</td>\n",
       "      <td>1</td>\n",
       "      <td>0</td>\n",
       "      <td>0</td>\n",
       "      <td>1.0</td>\n",
       "      <td>0.0</td>\n",
       "      <td>0.0</td>\n",
       "      <td>0.0</td>\n",
       "      <td>0.0</td>\n",
       "      <td>0.0</td>\n",
       "      <td>0.0</td>\n",
       "      <td>0.0</td>\n",
       "      <td>0.0</td>\n",
       "      <td>0.0</td>\n",
       "      <td>0.0</td>\n",
       "      <td>0.0</td>\n",
       "      <td>0.0</td>\n",
       "      <td>0.0</td>\n",
       "      <td>0.0</td>\n",
       "      <td>0.0</td>\n",
       "      <td>0.0</td>\n",
       "      <td>0.0</td>\n",
       "      <td>0.0</td>\n",
       "      <td>1.0</td>\n",
       "      <td>3.329217</td>\n",
       "      <td>4.497941</td>\n",
       "      <td>3.096145</td>\n",
       "      <td>2.154435</td>\n",
       "      <td>1.912931</td>\n",
       "      <td>0.271442</td>\n",
       "    </tr>\n",
       "    <tr>\n",
       "      <th>2</th>\n",
       "      <td>Cincinnati</td>\n",
       "      <td>OH</td>\n",
       "      <td>36.0</td>\n",
       "      <td>97.0</td>\n",
       "      <td>29.70</td>\n",
       "      <td>10.0</td>\n",
       "      <td>7.0</td>\n",
       "      <td>0.02</td>\n",
       "      <td>False</td>\n",
       "      <td>False</td>\n",
       "      <td>False</td>\n",
       "      <td>False</td>\n",
       "      <td>True</td>\n",
       "      <td>False</td>\n",
       "      <td>False</td>\n",
       "      <td>False</td>\n",
       "      <td>False</td>\n",
       "      <td>False</td>\n",
       "      <td>False</td>\n",
       "      <td>False</td>\n",
       "      <td>False</td>\n",
       "      <td>I-75 S</td>\n",
       "      <td>I-71</td>\n",
       "      <td>1</td>\n",
       "      <td>0</td>\n",
       "      <td>0</td>\n",
       "      <td>0</td>\n",
       "      <td>0</td>\n",
       "      <td>0</td>\n",
       "      <td>0</td>\n",
       "      <td>0</td>\n",
       "      <td>0</td>\n",
       "      <td>0</td>\n",
       "      <td>0</td>\n",
       "      <td>1</td>\n",
       "      <td>0</td>\n",
       "      <td>0</td>\n",
       "      <td>1.0</td>\n",
       "      <td>0.0</td>\n",
       "      <td>0.0</td>\n",
       "      <td>0.0</td>\n",
       "      <td>0.0</td>\n",
       "      <td>0.0</td>\n",
       "      <td>0.0</td>\n",
       "      <td>0.0</td>\n",
       "      <td>0.0</td>\n",
       "      <td>0.0</td>\n",
       "      <td>0.0</td>\n",
       "      <td>0.0</td>\n",
       "      <td>0.0</td>\n",
       "      <td>0.0</td>\n",
       "      <td>0.0</td>\n",
       "      <td>0.0</td>\n",
       "      <td>0.0</td>\n",
       "      <td>0.0</td>\n",
       "      <td>0.0</td>\n",
       "      <td>1.0</td>\n",
       "      <td>3.301927</td>\n",
       "      <td>4.594701</td>\n",
       "      <td>3.096840</td>\n",
       "      <td>2.154435</td>\n",
       "      <td>1.912931</td>\n",
       "      <td>0.271442</td>\n",
       "    </tr>\n",
       "    <tr>\n",
       "      <th>3</th>\n",
       "      <td>Akron</td>\n",
       "      <td>OH</td>\n",
       "      <td>39.0</td>\n",
       "      <td>55.0</td>\n",
       "      <td>29.65</td>\n",
       "      <td>10.0</td>\n",
       "      <td>7.0</td>\n",
       "      <td>0.00</td>\n",
       "      <td>False</td>\n",
       "      <td>False</td>\n",
       "      <td>False</td>\n",
       "      <td>False</td>\n",
       "      <td>False</td>\n",
       "      <td>False</td>\n",
       "      <td>False</td>\n",
       "      <td>False</td>\n",
       "      <td>False</td>\n",
       "      <td>False</td>\n",
       "      <td>False</td>\n",
       "      <td>False</td>\n",
       "      <td>False</td>\n",
       "      <td>I-77 N</td>\n",
       "      <td>DART AVE</td>\n",
       "      <td>1</td>\n",
       "      <td>0</td>\n",
       "      <td>0</td>\n",
       "      <td>0</td>\n",
       "      <td>0</td>\n",
       "      <td>0</td>\n",
       "      <td>0</td>\n",
       "      <td>0</td>\n",
       "      <td>0</td>\n",
       "      <td>0</td>\n",
       "      <td>0</td>\n",
       "      <td>1</td>\n",
       "      <td>0</td>\n",
       "      <td>0</td>\n",
       "      <td>1.0</td>\n",
       "      <td>0.0</td>\n",
       "      <td>0.0</td>\n",
       "      <td>0.0</td>\n",
       "      <td>0.0</td>\n",
       "      <td>0.0</td>\n",
       "      <td>0.0</td>\n",
       "      <td>0.0</td>\n",
       "      <td>0.0</td>\n",
       "      <td>0.0</td>\n",
       "      <td>0.0</td>\n",
       "      <td>0.0</td>\n",
       "      <td>0.0</td>\n",
       "      <td>0.0</td>\n",
       "      <td>0.0</td>\n",
       "      <td>0.0</td>\n",
       "      <td>0.0</td>\n",
       "      <td>0.0</td>\n",
       "      <td>0.0</td>\n",
       "      <td>1.0</td>\n",
       "      <td>3.391211</td>\n",
       "      <td>3.802952</td>\n",
       "      <td>3.095102</td>\n",
       "      <td>2.154435</td>\n",
       "      <td>1.912931</td>\n",
       "      <td>0.000000</td>\n",
       "    </tr>\n",
       "    <tr>\n",
       "      <th>4</th>\n",
       "      <td>Cincinnati</td>\n",
       "      <td>OH</td>\n",
       "      <td>37.0</td>\n",
       "      <td>93.0</td>\n",
       "      <td>29.69</td>\n",
       "      <td>10.0</td>\n",
       "      <td>10.4</td>\n",
       "      <td>0.01</td>\n",
       "      <td>False</td>\n",
       "      <td>False</td>\n",
       "      <td>False</td>\n",
       "      <td>False</td>\n",
       "      <td>False</td>\n",
       "      <td>False</td>\n",
       "      <td>False</td>\n",
       "      <td>False</td>\n",
       "      <td>False</td>\n",
       "      <td>False</td>\n",
       "      <td>False</td>\n",
       "      <td>False</td>\n",
       "      <td>False</td>\n",
       "      <td>I-75 S</td>\n",
       "      <td>MITCHELL AVE</td>\n",
       "      <td>0</td>\n",
       "      <td>1</td>\n",
       "      <td>0</td>\n",
       "      <td>0</td>\n",
       "      <td>0</td>\n",
       "      <td>0</td>\n",
       "      <td>0</td>\n",
       "      <td>0</td>\n",
       "      <td>0</td>\n",
       "      <td>0</td>\n",
       "      <td>0</td>\n",
       "      <td>1</td>\n",
       "      <td>1</td>\n",
       "      <td>1</td>\n",
       "      <td>0.0</td>\n",
       "      <td>0.0</td>\n",
       "      <td>0.0</td>\n",
       "      <td>0.0</td>\n",
       "      <td>0.0</td>\n",
       "      <td>0.0</td>\n",
       "      <td>0.0</td>\n",
       "      <td>0.0</td>\n",
       "      <td>0.0</td>\n",
       "      <td>0.0</td>\n",
       "      <td>0.0</td>\n",
       "      <td>0.0</td>\n",
       "      <td>0.0</td>\n",
       "      <td>0.0</td>\n",
       "      <td>0.0</td>\n",
       "      <td>0.0</td>\n",
       "      <td>0.0</td>\n",
       "      <td>1.0</td>\n",
       "      <td>1.0</td>\n",
       "      <td>0.0</td>\n",
       "      <td>3.332222</td>\n",
       "      <td>4.530655</td>\n",
       "      <td>3.096493</td>\n",
       "      <td>2.154435</td>\n",
       "      <td>2.182786</td>\n",
       "      <td>0.215443</td>\n",
       "    </tr>\n",
       "  </tbody>\n",
       "</table>\n",
       "</div>"
      ],
      "text/plain": [
       "         City State  Temp_F  Humidity_percent  Pressure_in  Visibility_mi  \\\n",
       "0      Dublin    OH    42.1              58.0        29.76           10.0   \n",
       "1      Dayton    OH    36.9              91.0        29.68           10.0   \n",
       "2  Cincinnati    OH    36.0              97.0        29.70           10.0   \n",
       "3       Akron    OH    39.0              55.0        29.65           10.0   \n",
       "4  Cincinnati    OH    37.0              93.0        29.69           10.0   \n",
       "\n",
       "   Wind_Speed_mph  Precipitation_in  Amenity   Bump  Crossing  Give_Way  \\\n",
       "0            10.4              0.00    False  False     False     False   \n",
       "1             7.0              0.02    False  False     False     False   \n",
       "2             7.0              0.02    False  False     False     False   \n",
       "3             7.0              0.00    False  False     False     False   \n",
       "4            10.4              0.01    False  False     False     False   \n",
       "\n",
       "   Junction  No_Exit  Railway  Roundabout  Station   Stop  Traffic_Calming  \\\n",
       "0     False    False    False       False    False  False            False   \n",
       "1     False    False    False       False    False  False            False   \n",
       "2      True    False    False       False    False  False            False   \n",
       "3     False    False    False       False    False  False            False   \n",
       "4     False    False    False       False    False  False            False   \n",
       "\n",
       "   Traffic_Signal  Turning_Loop       Street  Cross_street  CLOUDY  RAIN  FOG  \\\n",
       "0           False         False  OUTERBELT E    SAWMILL RD       0     1    0   \n",
       "1           False         False       I-70 E          OH-4       0     1    0   \n",
       "2           False         False       I-75 S          I-71       1     0    0   \n",
       "3           False         False       I-77 N      DART AVE       1     0    0   \n",
       "4           False         False       I-75 S  MITCHELL AVE       0     1    0   \n",
       "\n",
       "   THUNDER  WINDY  SNOW  SLEET  DUST  TORNADO  HAIL  Non_workday  Work_day  \\\n",
       "0        0      0     0      0     0        0     0            0         1   \n",
       "1        0      0     0      0     0        0     0            0         1   \n",
       "2        0      0     0      0     0        0     0            0         1   \n",
       "3        0      0     0      0     0        0     0            0         1   \n",
       "4        0      0     0      0     0        0     0            0         1   \n",
       "\n",
       "   Rush_hour  Severity_simple  CALM    E  ENE  ESE    N   NE  NNE  NNW   NW  \\\n",
       "0          0                1   0.0  0.0  0.0  0.0  0.0  0.0  0.0  0.0  0.0   \n",
       "1          0                0   1.0  0.0  0.0  0.0  0.0  0.0  0.0  0.0  0.0   \n",
       "2          0                0   1.0  0.0  0.0  0.0  0.0  0.0  0.0  0.0  0.0   \n",
       "3          0                0   1.0  0.0  0.0  0.0  0.0  0.0  0.0  0.0  0.0   \n",
       "4          1                1   0.0  0.0  0.0  0.0  0.0  0.0  0.0  0.0  0.0   \n",
       "\n",
       "     S   SE  SSE  SSW   SW  VAR    W  WNW  WSW  Day  Night  Temp_F_cubic_root  \\\n",
       "0  0.0  0.0  0.0  0.0  1.0  0.0  0.0  0.0  0.0  0.0    1.0           3.478783   \n",
       "1  0.0  0.0  0.0  0.0  0.0  0.0  0.0  0.0  0.0  0.0    1.0           3.329217   \n",
       "2  0.0  0.0  0.0  0.0  0.0  0.0  0.0  0.0  0.0  0.0    1.0           3.301927   \n",
       "3  0.0  0.0  0.0  0.0  0.0  0.0  0.0  0.0  0.0  0.0    1.0           3.391211   \n",
       "4  0.0  0.0  0.0  0.0  0.0  0.0  0.0  0.0  1.0  1.0    0.0           3.332222   \n",
       "\n",
       "   Humidity_percent_cubic_root  Pressure_in_cubic_root  \\\n",
       "0                     3.870877                3.098924   \n",
       "1                     4.497941                3.096145   \n",
       "2                     4.594701                3.096840   \n",
       "3                     3.802952                3.095102   \n",
       "4                     4.530655                3.096493   \n",
       "\n",
       "   Visibility_mi_cubic_root  Wind_Speed_mph_cubic_root  \\\n",
       "0                  2.154435                   2.182786   \n",
       "1                  2.154435                   1.912931   \n",
       "2                  2.154435                   1.912931   \n",
       "3                  2.154435                   1.912931   \n",
       "4                  2.154435                   2.182786   \n",
       "\n",
       "   Precipitation_in_cubic_root  \n",
       "0                     0.000000  \n",
       "1                     0.271442  \n",
       "2                     0.271442  \n",
       "3                     0.000000  \n",
       "4                     0.215443  "
      ]
     },
     "execution_count": 18,
     "metadata": {},
     "output_type": "execute_result"
    }
   ],
   "source": [
    "df2.head()"
   ]
  },
  {
   "cell_type": "markdown",
   "id": "f232a528",
   "metadata": {},
   "source": [
    "## df2 column suggestions "
   ]
  },
  {
   "cell_type": "code",
   "execution_count": 19,
   "id": "02ba1ec1",
   "metadata": {},
   "outputs": [
    {
     "name": "stdout",
     "output_type": "stream",
     "text": [
      "['City', 'State', 'Temp_F', 'Humidity_percent', 'Pressure_in', 'Visibility_mi', 'Wind_Speed_mph', 'Precipitation_in', 'Amenity', 'Bump', 'Crossing', 'Give_Way', 'Junction', 'No_Exit', 'Railway', 'Roundabout', 'Station', 'Stop', 'Traffic_Calming', 'Traffic_Signal', 'Turning_Loop', 'Street', 'Cross_street', 'CLOUDY', 'RAIN', 'FOG', 'THUNDER', 'WINDY', 'SNOW', 'SLEET', 'DUST', 'TORNADO', 'HAIL', 'Non_workday', 'Work_day', 'Rush_hour', 'Severity_simple', 'CALM', 'E', 'ENE', 'ESE', 'N', 'NE', 'NNE', 'NNW', 'NW', 'S', 'SE', 'SSE', 'SSW', 'SW', 'VAR', 'W', 'WNW', 'WSW', 'Day', 'Night', 'Temp_F_cubic_root', 'Humidity_percent_cubic_root', 'Pressure_in_cubic_root', 'Visibility_mi_cubic_root', 'Wind_Speed_mph_cubic_root', 'Precipitation_in_cubic_root']\n"
     ]
    }
   ],
   "source": [
    "#All df2 columns\n",
    "col = list(df2.columns)\n",
    "print(col)"
   ]
  },
  {
   "cell_type": "code",
   "execution_count": 20,
   "id": "1f9d624e",
   "metadata": {},
   "outputs": [],
   "source": [
    "X_location = ['City','State','Street','Cross_street']  #Columns with location info\n",
    "\n",
    "#Wind direction binary, may not be relevant\n",
    "X_wind_direction = ['CALM', 'E', 'ENE', 'ESE', 'N', 'NE', 'NNE', 'NNW', 'NW', 'S',\n",
    "                    'SE', 'SSE', 'SSW', 'SW', 'VAR', 'W', 'WNW', 'WSW']   \n",
    "\n",
    "#Columns that are 100% correlated with another column in the dataset\n",
    "#'Non_workday' and 'Workday'; 'Day' and 'Night', so only 'Workday' and 'Night' is kept\n",
    "X_multicollinear = ['Non_workday','Day']\n",
    "\n",
    "#Columns with cubic root transformation\n",
    "X_cubic_transformed = ['Temp_F_cubic_root', 'Humidity_percent_cubic_root', 'Pressure_in_cubic_root',\n",
    "                       'Visibility_mi_cubic_root', 'Wind_Speed_mph_cubic_root', 'Precipitation_in_cubic_root']\n",
    "\n",
    "#Columns without transformation\n",
    "X_num = ['Temp_F', 'Humidity_percent', 'Pressure_in', 'Visibility_mi', 'Wind_Speed_mph', 'Precipitation_in']"
   ]
  },
  {
   "cell_type": "markdown",
   "id": "77ec4e66",
   "metadata": {},
   "source": [
    "### Attributes that could be used in modeling, without transformation "
   ]
  },
  {
   "cell_type": "code",
   "execution_count": 23,
   "id": "ea47b0bf",
   "metadata": {},
   "outputs": [
    {
     "name": "stdout",
     "output_type": "stream",
     "text": [
      "['Temp_F', 'Humidity_percent', 'Pressure_in', 'Visibility_mi', 'Wind_Speed_mph', 'Amenity', 'Bump', 'Crossing', 'Give_Way', 'Junction', 'No_Exit', 'Railway', 'Roundabout', 'Station', 'Stop', 'Traffic_Calming', 'Traffic_Signal', 'Turning_Loop', 'CLOUDY', 'RAIN', 'FOG', 'THUNDER', 'WINDY', 'SNOW', 'SLEET', 'DUST', 'TORNADO', 'HAIL', 'Work_day', 'Rush_hour', 'CALM', 'E', 'ENE', 'ESE', 'N', 'NE', 'NNE', 'NNW', 'NW', 'S', 'SE', 'SSE', 'SSW', 'SW', 'VAR', 'W', 'WNW', 'WSW', 'Night']\n"
     ]
    }
   ],
   "source": [
    "X_no_trans = [i for i in col if (i != 'Severity_simple' and\n",
    "                                 i != 'Windy' and\n",
    "                                 i != 'Precipitation_in' and\n",
    "                                 i not in X_location and\n",
    "                                 i not in X_multicollinear and\n",
    "                                 i not in X_cubic_transformed)]\n",
    "print(X_no_trans)"
   ]
  },
  {
   "cell_type": "code",
   "execution_count": null,
   "id": "3a31ce89",
   "metadata": {},
   "outputs": [],
   "source": [
    "#Check correlation\n",
    "#'CALM' seems to be somewhat correlated with 'Wind_speed_mph'\n",
    "#'Traffic_calming'seems to be highly correlated with 'Bump'\n",
    "#num_corr = df2[X_no_trans].corr()\n",
    "#print(num_corr)\n",
    "#plt.figure(figsize = (16,16))\n",
    "#sns.heatmap(num_corr,cmap=\"vlag\",square = True, xticklabels=True, yticklabels=True, center = 0)"
   ]
  },
  {
   "cell_type": "markdown",
   "id": "8c6e113e",
   "metadata": {},
   "source": [
    "### Attributes that could be used in modeling, with cubic root transformation "
   ]
  },
  {
   "cell_type": "markdown",
   "id": "9bdd62a4",
   "metadata": {},
   "source": [
    "## Data sampling (no transformation)"
   ]
  },
  {
   "cell_type": "code",
   "execution_count": 24,
   "id": "a2a4f226",
   "metadata": {},
   "outputs": [],
   "source": [
    "y_nt = df2['Severity_simple']\n",
    "X_nt = df2[X_no_trans]"
   ]
  },
  {
   "cell_type": "code",
   "execution_count": 25,
   "id": "4f77712d",
   "metadata": {},
   "outputs": [],
   "source": [
    "X_nt_train, X_nt_test, y_nt_train, y_nt_test = train_test_split(X_nt, y_nt, test_size = 0.3, random_state = 42)"
   ]
  },
  {
   "cell_type": "code",
   "execution_count": 26,
   "id": "ff32c2db",
   "metadata": {},
   "outputs": [
    {
     "data": {
      "text/plain": [
       "Counter({0: 686027, 1: 143382})"
      ]
     },
     "execution_count": 26,
     "metadata": {},
     "output_type": "execute_result"
    }
   ],
   "source": [
    "Counter(y_nt_train)"
   ]
  },
  {
   "cell_type": "code",
   "execution_count": 27,
   "id": "5ed84768",
   "metadata": {},
   "outputs": [],
   "source": [
    "oversample = RandomOverSampler(random_state = 0)"
   ]
  },
  {
   "cell_type": "code",
   "execution_count": 28,
   "id": "291f0f3e",
   "metadata": {},
   "outputs": [],
   "source": [
    "X_nt_over, y_nt_over = oversample.fit_resample(X_nt_train, y_nt_train)"
   ]
  },
  {
   "cell_type": "code",
   "execution_count": 29,
   "id": "2afc20ec",
   "metadata": {},
   "outputs": [
    {
     "name": "stdout",
     "output_type": "stream",
     "text": [
      "Counter({0: 686027, 1: 686027})\n"
     ]
    }
   ],
   "source": [
    "print(Counter(y_nt_over))"
   ]
  },
  {
   "cell_type": "code",
   "execution_count": 30,
   "id": "36df68fd",
   "metadata": {},
   "outputs": [],
   "source": [
    "undersample = RandomUnderSampler(random_state = 0)"
   ]
  },
  {
   "cell_type": "code",
   "execution_count": 31,
   "id": "a1975e3d",
   "metadata": {},
   "outputs": [],
   "source": [
    "X_nt_under, y_nt_under = undersample.fit_resample(X_nt_train, y_nt_train)"
   ]
  },
  {
   "cell_type": "code",
   "execution_count": 32,
   "id": "f5607bce",
   "metadata": {},
   "outputs": [
    {
     "name": "stdout",
     "output_type": "stream",
     "text": [
      "Counter({0: 143382, 1: 143382})\n"
     ]
    }
   ],
   "source": [
    "print(Counter(y_nt_under))"
   ]
  },
  {
   "cell_type": "markdown",
   "id": "6aa931fc",
   "metadata": {},
   "source": [
    "## Undersampled, no tuning"
   ]
  },
  {
   "cell_type": "code",
   "execution_count": 50,
   "id": "4a09b8c8",
   "metadata": {},
   "outputs": [
    {
     "data": {
      "text/plain": [
       "RandomForestClassifier(random_state=42)"
      ]
     },
     "execution_count": 50,
     "metadata": {},
     "output_type": "execute_result"
    }
   ],
   "source": [
    "from sklearn.model_selection import GridSearchCV\n",
    "from sklearn.ensemble import RandomForestClassifier\n",
    "\n",
    "rnd_clf = RandomForestClassifier(random_state=42)\n",
    "rnd_clf.fit(X_nt_under, y_nt_under)"
   ]
  },
  {
   "cell_type": "code",
   "execution_count": 51,
   "id": "fee12fdd",
   "metadata": {},
   "outputs": [],
   "source": [
    "y_pred = rnd_clf.predict(X_nt_test)"
   ]
  },
  {
   "cell_type": "code",
   "execution_count": 52,
   "id": "9de4243c",
   "metadata": {},
   "outputs": [
    {
     "name": "stdout",
     "output_type": "stream",
     "text": [
      "[[199264  94837]\n",
      " [ 17546  43815]]\n"
     ]
    }
   ],
   "source": [
    "from sklearn.metrics import confusion_matrix\n",
    "conf_matrix = confusion_matrix(y_nt_test, y_pred)\n",
    "print(conf_matrix)"
   ]
  },
  {
   "cell_type": "code",
   "execution_count": 53,
   "id": "9d004b42",
   "metadata": {},
   "outputs": [
    {
     "name": "stdout",
     "output_type": "stream",
     "text": [
      "Precision score: 0.3160069815076595\n",
      "Recall score: 0.7140529000505207\n",
      "Accuracy score: 0.6838396228007495\n",
      "F1 score: 0.43812152210106337\n"
     ]
    }
   ],
   "source": [
    "from sklearn.metrics import precision_score, recall_score, accuracy_score, f1_score\n",
    "\n",
    "print('Precision score:',precision_score(y_nt_test, y_pred))\n",
    "print('Recall score:', recall_score(y_nt_test, y_pred))\n",
    "print('Accuracy score:', accuracy_score(y_nt_test, y_pred))\n",
    "print('F1 score:', f1_score(y_nt_test, y_pred))"
   ]
  },
  {
   "cell_type": "code",
   "execution_count": 54,
   "id": "7d005645",
   "metadata": {},
   "outputs": [
    {
     "data": {
      "text/plain": [
       "<sklearn.metrics._plot.roc_curve.RocCurveDisplay at 0x7fa78e77a2b0>"
      ]
     },
     "execution_count": 54,
     "metadata": {},
     "output_type": "execute_result"
    },
    {
     "data": {
      "image/png": "[encoded data removed]",
      "text/plain": [
       "<Figure size 432x288 with 1 Axes>"
      ]
     },
     "metadata": {
      "needs_background": "light"
     },
     "output_type": "display_data"
    }
   ],
   "source": [
    "import matplotlib.pyplot as plt\n",
    "from sklearn import metrics\n",
    "metrics.plot_roc_curve(rnd_clf, X_nt_test, y_nt_test) "
   ]
  },
  {
   "cell_type": "markdown",
   "id": "4a208c39",
   "metadata": {},
   "source": [
    "## Undersampled with tuning"
   ]
  },
  {
   "cell_type": "code",
   "execution_count": 61,
   "id": "ea66f38a",
   "metadata": {},
   "outputs": [],
   "source": [
    "from sklearn.model_selection import GridSearchCV\n",
    "from sklearn.ensemble import RandomForestClassifier\n",
    "\n",
    "rnd_clf = RandomForestClassifier(max_samples = 75000, bootstrap = True, random_state=42)\n",
    "param_grid = { \n",
    "    'n_estimators': [25, 50, 75, 100]\n",
    "    #'max_features': ['auto', 'sqrt', 'log2'],\n",
    "    #'max_depth' : [4,5,6,7,8],\n",
    "    #'criterion' :['gini', 'entropy']\n",
    "}\n",
    "\n",
    "rnd_clf_grid = GridSearchCV(rnd_clf, param_grid=param_grid, cv= 5, n_jobs = 4)"
   ]
  },
  {
   "cell_type": "code",
   "execution_count": 62,
   "id": "22c6df8c",
   "metadata": {},
   "outputs": [
    {
     "data": {
      "text/plain": [
       "{'n_estimators': 100}"
      ]
     },
     "execution_count": 62,
     "metadata": {},
     "output_type": "execute_result"
    }
   ],
   "source": [
    "rnd_clf_grid.fit(X_nt_under, y_nt_under)\n",
    "rnd_clf_grid.best_params_"
   ]
  },
  {
   "cell_type": "code",
   "execution_count": 63,
   "id": "0311fd51",
   "metadata": {},
   "outputs": [],
   "source": [
    "y_pred = rnd_clf_grid.predict(X_nt_test)"
   ]
  },
  {
   "cell_type": "code",
   "execution_count": 64,
   "id": "d96887cc",
   "metadata": {},
   "outputs": [
    {
     "name": "stdout",
     "output_type": "stream",
     "text": [
      "[[198414  95687]\n",
      " [ 17486  43875]]\n"
     ]
    }
   ],
   "source": [
    "from sklearn.metrics import confusion_matrix\n",
    "conf_matrix = confusion_matrix(y_nt_test, y_pred)\n",
    "print(conf_matrix)"
   ]
  },
  {
   "cell_type": "code",
   "execution_count": 65,
   "id": "9e99a8a7",
   "metadata": {},
   "outputs": [
    {
     "name": "stdout",
     "output_type": "stream",
     "text": [
      "Precision score: 0.3143764061850647\n",
      "Recall score: 0.7150307198383338\n",
      "Accuracy score: 0.6816171630160186\n",
      "F1 score: 0.43673447041901625\n"
     ]
    }
   ],
   "source": [
    "print('Precision score:',precision_score(y_nt_test, y_pred))\n",
    "print('Recall score:', recall_score(y_nt_test, y_pred))\n",
    "print('Accuracy score:', accuracy_score(y_nt_test, y_pred))\n",
    "print('F1 score:', f1_score(y_nt_test, y_pred))"
   ]
  },
  {
   "cell_type": "code",
   "execution_count": 67,
   "id": "c015af18",
   "metadata": {},
   "outputs": [
    {
     "data": {
      "text/plain": [
       "<sklearn.metrics._plot.roc_curve.RocCurveDisplay at 0x7fa636807580>"
      ]
     },
     "execution_count": 67,
     "metadata": {},
     "output_type": "execute_result"
    },
    {
     "data": {
      "image/png": "[encoded data removed]",
      "text/plain": [
       "<Figure size 432x288 with 1 Axes>"
      ]
     },
     "metadata": {
      "needs_background": "light"
     },
     "output_type": "display_data"
    }
   ],
   "source": [
    "metrics.plot_roc_curve(rnd_clf_grid, X_nt_test, y_nt_test) "
   ]
  },
  {
   "cell_type": "code",
   "execution_count": 68,
   "id": "67f85d11",
   "metadata": {},
   "outputs": [],
   "source": [
    "rnd_clf = RandomForestClassifier(random_state=42)\n",
    "param_grid = { \n",
    "    'n_estimators': [25, 50, 75, 100]\n",
    "    #'max_features': ['auto', 'sqrt', 'log2'],\n",
    "    #'max_depth' : [4,5,6,7,8],\n",
    "    #'criterion' :['gini', 'entropy']\n",
    "}\n",
    "\n",
    "rnd_clf_grid = GridSearchCV(rnd_clf, param_grid=param_grid, cv= 5, n_jobs = 4)"
   ]
  },
  {
   "cell_type": "code",
   "execution_count": 69,
   "id": "a4dcb35a",
   "metadata": {},
   "outputs": [
    {
     "data": {
      "text/plain": [
       "{'n_estimators': 100}"
      ]
     },
     "execution_count": 69,
     "metadata": {},
     "output_type": "execute_result"
    }
   ],
   "source": [
    "rnd_clf_grid.fit(X_nt_under, y_nt_under)\n",
    "rnd_clf_grid.best_params_"
   ]
  },
  {
   "cell_type": "code",
   "execution_count": 70,
   "id": "b176a8d1",
   "metadata": {},
   "outputs": [],
   "source": [
    "y_pred = rnd_clf_grid.predict(X_nt_test)"
   ]
  },
  {
   "cell_type": "code",
   "execution_count": 71,
   "id": "d2535902",
   "metadata": {},
   "outputs": [
    {
     "name": "stdout",
     "output_type": "stream",
     "text": [
      "[[199264  94837]\n",
      " [ 17546  43815]]\n"
     ]
    }
   ],
   "source": [
    "conf_matrix = confusion_matrix(y_nt_test, y_pred)\n",
    "print(conf_matrix)"
   ]
  },
  {
   "cell_type": "code",
   "execution_count": 72,
   "id": "df07dcb4",
   "metadata": {},
   "outputs": [
    {
     "data": {
      "text/plain": [
       "<sklearn.metrics._plot.roc_curve.RocCurveDisplay at 0x7fa7712ccfd0>"
      ]
     },
     "execution_count": 72,
     "metadata": {},
     "output_type": "execute_result"
    },
    {
     "data": {
      "image/png": "[encoded data removed]",
      "text/plain": [
       "<Figure size 432x288 with 1 Axes>"
      ]
     },
     "metadata": {
      "needs_background": "light"
     },
     "output_type": "display_data"
    }
   ],
   "source": [
    "metrics.plot_roc_curve(rnd_clf_grid, X_nt_test, y_nt_test) "
   ]
  },
  {
   "cell_type": "code",
   "execution_count": 75,
   "id": "ea94d0ed",
   "metadata": {},
   "outputs": [
    {
     "data": {
      "text/plain": [
       "RandomForestClassifier(random_state=42)"
      ]
     },
     "execution_count": 75,
     "metadata": {},
     "output_type": "execute_result"
    }
   ],
   "source": [
    "rnd_clf = RandomForestClassifier(random_state=42, bootstrap = True, n_estimators = 100)\n",
    "rnd_clf.fit(X_nt_under, y_nt_under)"
   ]
  },
  {
   "cell_type": "code",
   "execution_count": 76,
   "id": "3e99d103",
   "metadata": {},
   "outputs": [],
   "source": [
    "y_pred = rnd_clf.predict(X_nt_test)"
   ]
  },
  {
   "cell_type": "code",
   "execution_count": 77,
   "id": "ec8d0ae0",
   "metadata": {},
   "outputs": [
    {
     "name": "stdout",
     "output_type": "stream",
     "text": [
      "[[199264  94837]\n",
      " [ 17546  43815]]\n"
     ]
    }
   ],
   "source": [
    "conf_matrix = confusion_matrix(y_nt_test, y_pred)\n",
    "print(conf_matrix)"
   ]
  },
  {
   "cell_type": "code",
   "execution_count": 78,
   "id": "c59cba4c",
   "metadata": {},
   "outputs": [
    {
     "name": "stdout",
     "output_type": "stream",
     "text": [
      "Precision score: 0.3160069815076595\n",
      "Recall score: 0.7140529000505207\n",
      "Accuracy score: 0.6838396228007495\n",
      "F1 score: 0.43812152210106337\n"
     ]
    }
   ],
   "source": [
    "print('Precision score:',precision_score(y_nt_test, y_pred))\n",
    "print('Recall score:', recall_score(y_nt_test, y_pred))\n",
    "print('Accuracy score:', accuracy_score(y_nt_test, y_pred))\n",
    "print('F1 score:', f1_score(y_nt_test, y_pred))"
   ]
  },
  {
   "cell_type": "code",
   "execution_count": 79,
   "id": "99dad595",
   "metadata": {},
   "outputs": [
    {
     "data": {
      "text/plain": [
       "<sklearn.metrics._plot.roc_curve.RocCurveDisplay at 0x7fa3c0715d30>"
      ]
     },
     "execution_count": 79,
     "metadata": {},
     "output_type": "execute_result"
    },
    {
     "data": {
      "image/png": "[encoded data removed]",
      "text/plain": [
       "<Figure size 432x288 with 1 Axes>"
      ]
     },
     "metadata": {
      "needs_background": "light"
     },
     "output_type": "display_data"
    }
   ],
   "source": [
    "metrics.plot_roc_curve(rnd_clf, X_nt_test, y_nt_test)"
   ]
  },
  {
   "cell_type": "markdown",
   "id": "c64dc9ff",
   "metadata": {},
   "source": [
    "### Higest severe accidents prediction "
   ]
  },
  {
   "cell_type": "code",
   "execution_count": 91,
   "id": "e0fe3fe5",
   "metadata": {},
   "outputs": [],
   "source": [
    "from sklearn.model_selection import GridSearchCV\n",
    "from sklearn.ensemble import RandomForestClassifier\n",
    "\n",
    "rnd_clf = RandomForestClassifier(max_samples = 75000, bootstrap = True, random_state=42)\n",
    "param_grid = { \n",
    "    'n_estimators': [100,200,300,400,500]\n",
    "    #'max_features': ['auto', 'sqrt', 'log2'],\n",
    "    #'max_depth' : [4,5,6,7,8],\n",
    "    #'criterion' :['gini', 'entropy']\n",
    "}\n",
    "\n",
    "rnd_clf_grid = GridSearchCV(rnd_clf, param_grid=param_grid, cv= 5, n_jobs = 4)"
   ]
  },
  {
   "cell_type": "code",
   "execution_count": 92,
   "id": "7d38f40c",
   "metadata": {},
   "outputs": [
    {
     "data": {
      "text/plain": [
       "{'n_estimators': 500}"
      ]
     },
     "execution_count": 92,
     "metadata": {},
     "output_type": "execute_result"
    }
   ],
   "source": [
    "rnd_clf_grid.fit(X_nt_under, y_nt_under)\n",
    "rnd_clf_grid.best_params_"
   ]
  },
  {
   "cell_type": "code",
   "execution_count": 93,
   "id": "d8a0b9c3",
   "metadata": {},
   "outputs": [],
   "source": [
    "y_pred = rnd_clf_grid.predict(X_nt_test)"
   ]
  },
  {
   "cell_type": "code",
   "execution_count": 94,
   "id": "6c4876fc",
   "metadata": {},
   "outputs": [
    {
     "name": "stdout",
     "output_type": "stream",
     "text": [
      "[[196691  97410]\n",
      " [ 16539  44822]]\n"
     ]
    }
   ],
   "source": [
    "conf_matrix = confusion_matrix(y_nt_test, y_pred)\n",
    "print(conf_matrix)"
   ]
  },
  {
   "cell_type": "code",
   "execution_count": 95,
   "id": "aee711c9",
   "metadata": {},
   "outputs": [
    {
     "name": "stdout",
     "output_type": "stream",
     "text": [
      "Precision score: 0.3151330221047303\n",
      "Recall score: 0.7304639754893173\n",
      "Accuracy score: 0.6794340885945614\n",
      "F1 score: 0.44030983383515154\n"
     ]
    }
   ],
   "source": [
    "print('Precision score:',precision_score(y_nt_test, y_pred))\n",
    "print('Recall score:', recall_score(y_nt_test, y_pred))\n",
    "print('Accuracy score:', accuracy_score(y_nt_test, y_pred))\n",
    "print('F1 score:', f1_score(y_nt_test, y_pred))"
   ]
  },
  {
   "cell_type": "code",
   "execution_count": 97,
   "id": "9cf6fd91",
   "metadata": {},
   "outputs": [
    {
     "data": {
      "text/plain": [
       "<sklearn.metrics._plot.roc_curve.RocCurveDisplay at 0x7fa63b7b1040>"
      ]
     },
     "execution_count": 97,
     "metadata": {},
     "output_type": "execute_result"
    },
    {
     "data": {
      "image/png": "[encoded data removed]",
      "text/plain": [
       "<Figure size 432x288 with 1 Axes>"
      ]
     },
     "metadata": {
      "needs_background": "light"
     },
     "output_type": "display_data"
    }
   ],
   "source": [
    "metrics.plot_roc_curve(rnd_clf_grid, X_nt_test, y_nt_test)"
   ]
  },
  {
   "cell_type": "code",
   "execution_count": 101,
   "id": "4f415b3d",
   "metadata": {},
   "outputs": [
    {
     "data": {
      "image/png": "[encoded data removed]",
      "text/plain": [
       "<Figure size 432x288 with 1 Axes>"
      ]
     },
     "metadata": {
      "needs_background": "light"
     },
     "output_type": "display_data"
    }
   ],
   "source": [
    "from matplotlib import pyplot\n",
    "idx = rnd_clf_grid.best_estimator_.feature_importances_ > 0\n",
    "\n",
    "x = np.array(X_no_trans)\n",
    "#print(x[idx])\n",
    "pyplot.bar(x[idx], rnd_clf_grid.best_estimator_.feature_importances_[idx])\n",
    "pyplot.xticks(rotation=90)\n",
    "\n",
    "pyplot.show()"
   ]
  },
  {
   "cell_type": "code",
   "execution_count": 102,
   "id": "42e83a35",
   "metadata": {},
   "outputs": [
    {
     "data": {
      "text/html": [
       "<div>\n",
       "<style scoped>\n",
       "    .dataframe tbody tr th:only-of-type {\n",
       "        vertical-align: middle;\n",
       "    }\n",
       "\n",
       "    .dataframe tbody tr th {\n",
       "        vertical-align: top;\n",
       "    }\n",
       "\n",
       "    .dataframe thead th {\n",
       "        text-align: right;\n",
       "    }\n",
       "</style>\n",
       "<table border=\"1\" class=\"dataframe\">\n",
       "  <thead>\n",
       "    <tr style=\"text-align: right;\">\n",
       "      <th></th>\n",
       "      <th>Attribute</th>\n",
       "      <th>Importance</th>\n",
       "    </tr>\n",
       "  </thead>\n",
       "  <tbody>\n",
       "    <tr>\n",
       "      <th>0</th>\n",
       "      <td>Temp_F</td>\n",
       "      <td>0.190510</td>\n",
       "    </tr>\n",
       "    <tr>\n",
       "      <th>1</th>\n",
       "      <td>Humidity_percent</td>\n",
       "      <td>0.175570</td>\n",
       "    </tr>\n",
       "    <tr>\n",
       "      <th>2</th>\n",
       "      <td>Pressure_in</td>\n",
       "      <td>0.221007</td>\n",
       "    </tr>\n",
       "    <tr>\n",
       "      <th>3</th>\n",
       "      <td>Visibility_mi</td>\n",
       "      <td>0.038786</td>\n",
       "    </tr>\n",
       "    <tr>\n",
       "      <th>4</th>\n",
       "      <td>Wind_Speed_mph</td>\n",
       "      <td>0.147401</td>\n",
       "    </tr>\n",
       "  </tbody>\n",
       "</table>\n",
       "</div>"
      ],
      "text/plain": [
       "          Attribute  Importance\n",
       "0            Temp_F    0.190510\n",
       "1  Humidity_percent    0.175570\n",
       "2       Pressure_in    0.221007\n",
       "3     Visibility_mi    0.038786\n",
       "4    Wind_Speed_mph    0.147401"
      ]
     },
     "execution_count": 102,
     "metadata": {},
     "output_type": "execute_result"
    }
   ],
   "source": [
    "df_importance = pd.DataFrame()\n",
    "df_importance['Attribute']=x[idx]\n",
    "df_importance['Importance'] = rnd_clf_grid.best_estimator_.feature_importances_[idx]\n",
    "df_importance.head()"
   ]
  },
  {
   "cell_type": "code",
   "execution_count": 103,
   "id": "acaf49f1",
   "metadata": {},
   "outputs": [
    {
     "data": {
      "text/plain": [
       "([0,\n",
       "  1,\n",
       "  2,\n",
       "  3,\n",
       "  4,\n",
       "  5,\n",
       "  6,\n",
       "  7,\n",
       "  8,\n",
       "  9,\n",
       "  10,\n",
       "  11,\n",
       "  12,\n",
       "  13,\n",
       "  14,\n",
       "  15,\n",
       "  16,\n",
       "  17,\n",
       "  18,\n",
       "  19,\n",
       "  20,\n",
       "  21,\n",
       "  22,\n",
       "  23,\n",
       "  24,\n",
       "  25,\n",
       "  26,\n",
       "  27,\n",
       "  28,\n",
       "  29,\n",
       "  30,\n",
       "  31,\n",
       "  32,\n",
       "  33,\n",
       "  34,\n",
       "  35,\n",
       "  36,\n",
       "  37,\n",
       "  38,\n",
       "  39,\n",
       "  40,\n",
       "  41,\n",
       "  42,\n",
       "  43,\n",
       "  44,\n",
       "  45,\n",
       "  46,\n",
       "  47],\n",
       " [Text(0, 0, ''),\n",
       "  Text(0, 0, ''),\n",
       "  Text(0, 0, ''),\n",
       "  Text(0, 0, ''),\n",
       "  Text(0, 0, ''),\n",
       "  Text(0, 0, ''),\n",
       "  Text(0, 0, ''),\n",
       "  Text(0, 0, ''),\n",
       "  Text(0, 0, ''),\n",
       "  Text(0, 0, ''),\n",
       "  Text(0, 0, ''),\n",
       "  Text(0, 0, ''),\n",
       "  Text(0, 0, ''),\n",
       "  Text(0, 0, ''),\n",
       "  Text(0, 0, ''),\n",
       "  Text(0, 0, ''),\n",
       "  Text(0, 0, ''),\n",
       "  Text(0, 0, ''),\n",
       "  Text(0, 0, ''),\n",
       "  Text(0, 0, ''),\n",
       "  Text(0, 0, ''),\n",
       "  Text(0, 0, ''),\n",
       "  Text(0, 0, ''),\n",
       "  Text(0, 0, ''),\n",
       "  Text(0, 0, ''),\n",
       "  Text(0, 0, ''),\n",
       "  Text(0, 0, ''),\n",
       "  Text(0, 0, ''),\n",
       "  Text(0, 0, ''),\n",
       "  Text(0, 0, ''),\n",
       "  Text(0, 0, ''),\n",
       "  Text(0, 0, ''),\n",
       "  Text(0, 0, ''),\n",
       "  Text(0, 0, ''),\n",
       "  Text(0, 0, ''),\n",
       "  Text(0, 0, ''),\n",
       "  Text(0, 0, ''),\n",
       "  Text(0, 0, ''),\n",
       "  Text(0, 0, ''),\n",
       "  Text(0, 0, ''),\n",
       "  Text(0, 0, ''),\n",
       "  Text(0, 0, ''),\n",
       "  Text(0, 0, ''),\n",
       "  Text(0, 0, ''),\n",
       "  Text(0, 0, ''),\n",
       "  Text(0, 0, ''),\n",
       "  Text(0, 0, ''),\n",
       "  Text(0, 0, '')])"
      ]
     },
     "execution_count": 103,
     "metadata": {},
     "output_type": "execute_result"
    },
    {
     "data": {
      "image/png": "[encoded data removed]",
      "text/plain": [
       "<Figure size 720x720 with 1 Axes>"
      ]
     },
     "metadata": {
      "needs_background": "light"
     },
     "output_type": "display_data"
    }
   ],
   "source": [
    "x_val = df_importance.sort_values(by=['Importance'], ascending=[False])['Attribute']\n",
    "y_val = df_importance.sort_values(by=['Importance'], ascending=[False])['Importance']\n",
    "idx = np.array(y_val) != 0\n",
    "\n",
    "x = np.array(x_val)[idx]\n",
    "y = y_val[idx]\n",
    "\n",
    "plt.figure(figsize = (10,10))\n",
    "plt.bar(x,y)\n",
    "pyplot.xticks(rotation=90)"
   ]
  },
  {
   "cell_type": "code",
   "execution_count": 104,
   "id": "0830fe6d",
   "metadata": {},
   "outputs": [],
   "source": [
    "from sklearn.model_selection import GridSearchCV\n",
    "from sklearn.ensemble import RandomForestClassifier\n",
    "\n",
    "rnd_clf = RandomForestClassifier(max_samples = 75000, bootstrap = True, random_state=42)\n",
    "param_grid = { \n",
    "    'n_estimators': [600,700,800,900,1000]\n",
    "    #'max_features': ['auto', 'sqrt', 'log2'],\n",
    "    #'max_depth' : [4,5,6,7,8],\n",
    "    #'criterion' :['gini', 'entropy']\n",
    "}\n",
    "\n",
    "rnd_clf_grid = GridSearchCV(rnd_clf, param_grid=param_grid, cv= 5, n_jobs = 4)"
   ]
  },
  {
   "cell_type": "code",
   "execution_count": 105,
   "id": "948fcd00",
   "metadata": {},
   "outputs": [
    {
     "data": {
      "text/plain": [
       "{'n_estimators': 1000}"
      ]
     },
     "execution_count": 105,
     "metadata": {},
     "output_type": "execute_result"
    }
   ],
   "source": [
    "rnd_clf_grid.fit(X_nt_under, y_nt_under)\n",
    "rnd_clf_grid.best_params_"
   ]
  },
  {
   "cell_type": "code",
   "execution_count": 106,
   "id": "4ade2e0f",
   "metadata": {},
   "outputs": [],
   "source": [
    "y_pred = rnd_clf_grid.predict(X_nt_test)"
   ]
  },
  {
   "cell_type": "code",
   "execution_count": 107,
   "id": "53f2412a",
   "metadata": {},
   "outputs": [
    {
     "name": "stdout",
     "output_type": "stream",
     "text": [
      "[[196437  97664]\n",
      " [ 16401  44960]]\n"
     ]
    }
   ],
   "source": [
    "conf_matrix = confusion_matrix(y_nt_test, y_pred)\n",
    "print(conf_matrix)"
   ]
  },
  {
   "cell_type": "code",
   "execution_count": 108,
   "id": "99d337de",
   "metadata": {},
   "outputs": [
    {
     "name": "stdout",
     "output_type": "stream",
     "text": [
      "Precision score: 0.31523446264303345\n",
      "Recall score: 0.7327129610012875\n",
      "Accuracy score: 0.6791077527274364\n",
      "F1 score: 0.440816726720102\n"
     ]
    }
   ],
   "source": [
    "print('Precision score:',precision_score(y_nt_test, y_pred))\n",
    "print('Recall score:', recall_score(y_nt_test, y_pred))\n",
    "print('Accuracy score:', accuracy_score(y_nt_test, y_pred))\n",
    "print('F1 score:', f1_score(y_nt_test, y_pred))"
   ]
  },
  {
   "cell_type": "code",
   "execution_count": 109,
   "id": "76d22d18",
   "metadata": {},
   "outputs": [
    {
     "data": {
      "text/plain": [
       "<sklearn.metrics._plot.roc_curve.RocCurveDisplay at 0x7fa6452e2130>"
      ]
     },
     "execution_count": 109,
     "metadata": {},
     "output_type": "execute_result"
    },
    {
     "data": {
      "image/png": "[encoded data removed]",
      "text/plain": [
       "<Figure size 432x288 with 1 Axes>"
      ]
     },
     "metadata": {
      "needs_background": "light"
     },
     "output_type": "display_data"
    }
   ],
   "source": [
    "metrics.plot_roc_curve(rnd_clf_grid, X_nt_test, y_nt_test)"
   ]
  },
  {
   "cell_type": "code",
   "execution_count": 110,
   "id": "55b39af1",
   "metadata": {},
   "outputs": [
    {
     "data": {
      "image/png": "[encoded data removed]",
      "text/plain": [
       "<Figure size 432x288 with 1 Axes>"
      ]
     },
     "metadata": {
      "needs_background": "light"
     },
     "output_type": "display_data"
    }
   ],
   "source": [
    "idx = rnd_clf_grid.best_estimator_.feature_importances_ > 0\n",
    "\n",
    "x = np.array(X_no_trans)\n",
    "#print(x[idx])\n",
    "pyplot.bar(x[idx], rnd_clf_grid.best_estimator_.feature_importances_[idx])\n",
    "pyplot.xticks(rotation=90)\n",
    "\n",
    "pyplot.show()"
   ]
  },
  {
   "cell_type": "code",
   "execution_count": 111,
   "id": "aff055d4",
   "metadata": {},
   "outputs": [
    {
     "data": {
      "text/html": [
       "<div>\n",
       "<style scoped>\n",
       "    .dataframe tbody tr th:only-of-type {\n",
       "        vertical-align: middle;\n",
       "    }\n",
       "\n",
       "    .dataframe tbody tr th {\n",
       "        vertical-align: top;\n",
       "    }\n",
       "\n",
       "    .dataframe thead th {\n",
       "        text-align: right;\n",
       "    }\n",
       "</style>\n",
       "<table border=\"1\" class=\"dataframe\">\n",
       "  <thead>\n",
       "    <tr style=\"text-align: right;\">\n",
       "      <th></th>\n",
       "      <th>Attribute</th>\n",
       "      <th>Importance</th>\n",
       "    </tr>\n",
       "  </thead>\n",
       "  <tbody>\n",
       "    <tr>\n",
       "      <th>0</th>\n",
       "      <td>Temp_F</td>\n",
       "      <td>0.190099</td>\n",
       "    </tr>\n",
       "    <tr>\n",
       "      <th>1</th>\n",
       "      <td>Humidity_percent</td>\n",
       "      <td>0.175424</td>\n",
       "    </tr>\n",
       "    <tr>\n",
       "      <th>2</th>\n",
       "      <td>Pressure_in</td>\n",
       "      <td>0.220841</td>\n",
       "    </tr>\n",
       "    <tr>\n",
       "      <th>3</th>\n",
       "      <td>Visibility_mi</td>\n",
       "      <td>0.038794</td>\n",
       "    </tr>\n",
       "    <tr>\n",
       "      <th>4</th>\n",
       "      <td>Wind_Speed_mph</td>\n",
       "      <td>0.147586</td>\n",
       "    </tr>\n",
       "  </tbody>\n",
       "</table>\n",
       "</div>"
      ],
      "text/plain": [
       "          Attribute  Importance\n",
       "0            Temp_F    0.190099\n",
       "1  Humidity_percent    0.175424\n",
       "2       Pressure_in    0.220841\n",
       "3     Visibility_mi    0.038794\n",
       "4    Wind_Speed_mph    0.147586"
      ]
     },
     "execution_count": 111,
     "metadata": {},
     "output_type": "execute_result"
    }
   ],
   "source": [
    "df_importance = pd.DataFrame()\n",
    "df_importance['Attribute']=x[idx]\n",
    "df_importance['Importance'] = rnd_clf_grid.best_estimator_.feature_importances_[idx]\n",
    "df_importance.head()"
   ]
  },
  {
   "cell_type": "code",
   "execution_count": 112,
   "id": "7b633f83",
   "metadata": {},
   "outputs": [
    {
     "data": {
      "text/plain": [
       "([0,\n",
       "  1,\n",
       "  2,\n",
       "  3,\n",
       "  4,\n",
       "  5,\n",
       "  6,\n",
       "  7,\n",
       "  8,\n",
       "  9,\n",
       "  10,\n",
       "  11,\n",
       "  12,\n",
       "  13,\n",
       "  14,\n",
       "  15,\n",
       "  16,\n",
       "  17,\n",
       "  18,\n",
       "  19,\n",
       "  20,\n",
       "  21,\n",
       "  22,\n",
       "  23,\n",
       "  24,\n",
       "  25,\n",
       "  26,\n",
       "  27,\n",
       "  28,\n",
       "  29,\n",
       "  30,\n",
       "  31,\n",
       "  32,\n",
       "  33,\n",
       "  34,\n",
       "  35,\n",
       "  36,\n",
       "  37,\n",
       "  38,\n",
       "  39,\n",
       "  40,\n",
       "  41,\n",
       "  42,\n",
       "  43,\n",
       "  44,\n",
       "  45,\n",
       "  46,\n",
       "  47],\n",
       " [Text(0, 0, ''),\n",
       "  Text(0, 0, ''),\n",
       "  Text(0, 0, ''),\n",
       "  Text(0, 0, ''),\n",
       "  Text(0, 0, ''),\n",
       "  Text(0, 0, ''),\n",
       "  Text(0, 0, ''),\n",
       "  Text(0, 0, ''),\n",
       "  Text(0, 0, ''),\n",
       "  Text(0, 0, ''),\n",
       "  Text(0, 0, ''),\n",
       "  Text(0, 0, ''),\n",
       "  Text(0, 0, ''),\n",
       "  Text(0, 0, ''),\n",
       "  Text(0, 0, ''),\n",
       "  Text(0, 0, ''),\n",
       "  Text(0, 0, ''),\n",
       "  Text(0, 0, ''),\n",
       "  Text(0, 0, ''),\n",
       "  Text(0, 0, ''),\n",
       "  Text(0, 0, ''),\n",
       "  Text(0, 0, ''),\n",
       "  Text(0, 0, ''),\n",
       "  Text(0, 0, ''),\n",
       "  Text(0, 0, ''),\n",
       "  Text(0, 0, ''),\n",
       "  Text(0, 0, ''),\n",
       "  Text(0, 0, ''),\n",
       "  Text(0, 0, ''),\n",
       "  Text(0, 0, ''),\n",
       "  Text(0, 0, ''),\n",
       "  Text(0, 0, ''),\n",
       "  Text(0, 0, ''),\n",
       "  Text(0, 0, ''),\n",
       "  Text(0, 0, ''),\n",
       "  Text(0, 0, ''),\n",
       "  Text(0, 0, ''),\n",
       "  Text(0, 0, ''),\n",
       "  Text(0, 0, ''),\n",
       "  Text(0, 0, ''),\n",
       "  Text(0, 0, ''),\n",
       "  Text(0, 0, ''),\n",
       "  Text(0, 0, ''),\n",
       "  Text(0, 0, ''),\n",
       "  Text(0, 0, ''),\n",
       "  Text(0, 0, ''),\n",
       "  Text(0, 0, ''),\n",
       "  Text(0, 0, '')])"
      ]
     },
     "execution_count": 112,
     "metadata": {},
     "output_type": "execute_result"
    },
    {
     "data": {
      "image/png": "[encoded data removed]",
      "text/plain": [
       "<Figure size 720x720 with 1 Axes>"
      ]
     },
     "metadata": {
      "needs_background": "light"
     },
     "output_type": "display_data"
    }
   ],
   "source": [
    "x_val = df_importance.sort_values(by=['Importance'], ascending=[False])['Attribute']\n",
    "y_val = df_importance.sort_values(by=['Importance'], ascending=[False])['Importance']\n",
    "idx = np.array(y_val) != 0\n",
    "\n",
    "x = np.array(x_val)[idx]\n",
    "y = y_val[idx]\n",
    "\n",
    "plt.figure(figsize = (10,10))\n",
    "plt.bar(x,y)\n",
    "pyplot.xticks(rotation=90)"
   ]
  },
  {
   "cell_type": "code",
   "execution_count": 113,
   "id": "efa7aa62",
   "metadata": {},
   "outputs": [],
   "source": [
    "rnd_clf = RandomForestClassifier(max_samples = 75000, bootstrap = True, random_state=42)\n",
    "param_grid = { \n",
    "    'n_estimators': [3000]\n",
    "    #'max_features': ['auto', 'sqrt', 'log2'],\n",
    "    #'max_depth' : [4,5,6,7,8],\n",
    "    #'criterion' :['gini', 'entropy']\n",
    "}\n",
    "\n",
    "rnd_clf_grid = GridSearchCV(rnd_clf, param_grid=param_grid, cv= 5, n_jobs = 4)"
   ]
  },
  {
   "cell_type": "code",
   "execution_count": 114,
   "id": "70957dc4",
   "metadata": {},
   "outputs": [
    {
     "data": {
      "text/plain": [
       "{'n_estimators': 3000}"
      ]
     },
     "execution_count": 114,
     "metadata": {},
     "output_type": "execute_result"
    }
   ],
   "source": [
    "rnd_clf_grid.fit(X_nt_under, y_nt_under)\n",
    "rnd_clf_grid.best_params_"
   ]
  },
  {
   "cell_type": "code",
   "execution_count": 115,
   "id": "827218e0",
   "metadata": {},
   "outputs": [],
   "source": [
    "y_pred = rnd_clf_grid.predict(X_nt_test)"
   ]
  },
  {
   "cell_type": "code",
   "execution_count": 116,
   "id": "ab24525a",
   "metadata": {
    "scrolled": true
   },
   "outputs": [
    {
     "name": "stdout",
     "output_type": "stream",
     "text": [
      "[[196430  97671]\n",
      " [ 16342  45019]]\n"
     ]
    }
   ],
   "source": [
    "conf_matrix = confusion_matrix(y_nt_test, y_pred)\n",
    "print(conf_matrix)"
   ]
  },
  {
   "cell_type": "code",
   "execution_count": 117,
   "id": "588e9879",
   "metadata": {},
   "outputs": [
    {
     "name": "stdout",
     "output_type": "stream",
     "text": [
      "Precision score: 0.315502137500876\n",
      "Recall score: 0.733674483792637\n",
      "Accuracy score: 0.6792540412195959\n",
      "F1 score: 0.4412524319900417\n"
     ]
    }
   ],
   "source": [
    "print('Precision score:',precision_score(y_nt_test, y_pred))\n",
    "print('Recall score:', recall_score(y_nt_test, y_pred))\n",
    "print('Accuracy score:', accuracy_score(y_nt_test, y_pred))\n",
    "print('F1 score:', f1_score(y_nt_test, y_pred))"
   ]
  },
  {
   "cell_type": "code",
   "execution_count": 118,
   "id": "b4d8fc42",
   "metadata": {},
   "outputs": [
    {
     "data": {
      "text/plain": [
       "<sklearn.metrics._plot.roc_curve.RocCurveDisplay at 0x7fa3c28a8580>"
      ]
     },
     "execution_count": 118,
     "metadata": {},
     "output_type": "execute_result"
    },
    {
     "data": {
      "image/png": "[encoded data removed]",
      "text/plain": [
       "<Figure size 432x288 with 1 Axes>"
      ]
     },
     "metadata": {
      "needs_background": "light"
     },
     "output_type": "display_data"
    }
   ],
   "source": [
    "metrics.plot_roc_curve(rnd_clf_grid, X_nt_test, y_nt_test)"
   ]
  },
  {
   "cell_type": "code",
   "execution_count": 120,
   "id": "221342e8",
   "metadata": {},
   "outputs": [
    {
     "data": {
      "text/plain": [
       "([0,\n",
       "  1,\n",
       "  2,\n",
       "  3,\n",
       "  4,\n",
       "  5,\n",
       "  6,\n",
       "  7,\n",
       "  8,\n",
       "  9,\n",
       "  10,\n",
       "  11,\n",
       "  12,\n",
       "  13,\n",
       "  14,\n",
       "  15,\n",
       "  16,\n",
       "  17,\n",
       "  18,\n",
       "  19,\n",
       "  20,\n",
       "  21,\n",
       "  22,\n",
       "  23,\n",
       "  24,\n",
       "  25,\n",
       "  26,\n",
       "  27,\n",
       "  28,\n",
       "  29,\n",
       "  30,\n",
       "  31,\n",
       "  32,\n",
       "  33,\n",
       "  34,\n",
       "  35,\n",
       "  36,\n",
       "  37,\n",
       "  38,\n",
       "  39,\n",
       "  40,\n",
       "  41,\n",
       "  42,\n",
       "  43,\n",
       "  44,\n",
       "  45,\n",
       "  46,\n",
       "  47],\n",
       " [Text(0, 0, ''),\n",
       "  Text(0, 0, ''),\n",
       "  Text(0, 0, ''),\n",
       "  Text(0, 0, ''),\n",
       "  Text(0, 0, ''),\n",
       "  Text(0, 0, ''),\n",
       "  Text(0, 0, ''),\n",
       "  Text(0, 0, ''),\n",
       "  Text(0, 0, ''),\n",
       "  Text(0, 0, ''),\n",
       "  Text(0, 0, ''),\n",
       "  Text(0, 0, ''),\n",
       "  Text(0, 0, ''),\n",
       "  Text(0, 0, ''),\n",
       "  Text(0, 0, ''),\n",
       "  Text(0, 0, ''),\n",
       "  Text(0, 0, ''),\n",
       "  Text(0, 0, ''),\n",
       "  Text(0, 0, ''),\n",
       "  Text(0, 0, ''),\n",
       "  Text(0, 0, ''),\n",
       "  Text(0, 0, ''),\n",
       "  Text(0, 0, ''),\n",
       "  Text(0, 0, ''),\n",
       "  Text(0, 0, ''),\n",
       "  Text(0, 0, ''),\n",
       "  Text(0, 0, ''),\n",
       "  Text(0, 0, ''),\n",
       "  Text(0, 0, ''),\n",
       "  Text(0, 0, ''),\n",
       "  Text(0, 0, ''),\n",
       "  Text(0, 0, ''),\n",
       "  Text(0, 0, ''),\n",
       "  Text(0, 0, ''),\n",
       "  Text(0, 0, ''),\n",
       "  Text(0, 0, ''),\n",
       "  Text(0, 0, ''),\n",
       "  Text(0, 0, ''),\n",
       "  Text(0, 0, ''),\n",
       "  Text(0, 0, ''),\n",
       "  Text(0, 0, ''),\n",
       "  Text(0, 0, ''),\n",
       "  Text(0, 0, ''),\n",
       "  Text(0, 0, ''),\n",
       "  Text(0, 0, ''),\n",
       "  Text(0, 0, ''),\n",
       "  Text(0, 0, ''),\n",
       "  Text(0, 0, '')])"
      ]
     },
     "execution_count": 120,
     "metadata": {},
     "output_type": "execute_result"
    },
    {
     "data": {
      "image/png": "[encoded data removed]",
      "text/plain": [
       "<Figure size 432x288 with 1 Axes>"
      ]
     },
     "metadata": {
      "needs_background": "light"
     },
     "output_type": "display_data"
    },
    {
     "data": {
      "image/png": "[encoded data removed]",
      "text/plain": [
       "<Figure size 720x720 with 1 Axes>"
      ]
     },
     "metadata": {
      "needs_background": "light"
     },
     "output_type": "display_data"
    }
   ],
   "source": [
    "idx = rnd_clf_grid.best_estimator_.feature_importances_ > 0\n",
    "\n",
    "x = np.array(X_no_trans)\n",
    "#print(x[idx])\n",
    "pyplot.bar(x[idx], rnd_clf_grid.best_estimator_.feature_importances_[idx])\n",
    "pyplot.xticks(rotation=90)\n",
    "\n",
    "#pyplot.show()\n",
    "df_importance = pd.DataFrame()\n",
    "df_importance['Attribute']=x[idx]\n",
    "df_importance['Importance'] = rnd_clf_grid.best_estimator_.feature_importances_[idx]\n",
    "#df_importance.head()\n",
    "\n",
    "x_val = df_importance.sort_values(by=['Importance'], ascending=[False])['Attribute']\n",
    "y_val = df_importance.sort_values(by=['Importance'], ascending=[False])['Importance']\n",
    "idx = np.array(y_val) != 0\n",
    "\n",
    "x = np.array(x_val)[idx]\n",
    "y = y_val[idx]\n",
    "\n",
    "plt.figure(figsize = (10,10))\n",
    "plt.bar(x,y)\n",
    "pyplot.xticks(rotation=90)"
   ]
  },
  {
   "cell_type": "code",
   "execution_count": null,
   "id": "15fd32e9",
   "metadata": {},
   "outputs": [],
   "source": []
  }
 ],
 "metadata": {
  "kernelspec": {
   "display_name": "Python 3",
   "language": "python",
   "name": "python3"
  },
  "language_info": {
   "codemirror_mode": {
    "name": "ipython",
    "version": 3
   },
   "file_extension": ".py",
   "mimetype": "text/x-python",
   "name": "python",
   "nbconvert_exporter": "python",
   "pygments_lexer": "ipython3",
   "version": "3.8.8"
  }
 },
 "nbformat": 4,
 "nbformat_minor": 5
}
